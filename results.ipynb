{
 "cells": [
  {
   "cell_type": "code",
   "execution_count": 1,
   "metadata": {},
   "outputs": [],
   "source": [
    "import matplotlib.pyplot as plt\n",
    "import numpy as np\n",
    "import pandas as pd\n",
    "import numpy as np"
   ]
  },
  {
   "cell_type": "code",
   "execution_count": 2,
   "metadata": {},
   "outputs": [
    {
     "name": "stdout",
     "output_type": "stream",
     "text": [
      "Mean PPO: -23894.61696763604 Mean SPT:  -43812.62561900755\n"
     ]
    },
    {
     "data": {
      "image/png": "[encoded data removed]",
      "text/plain": [
       "<Figure size 432x288 with 1 Axes>"
      ]
     },
     "metadata": {
      "needs_background": "light"
     },
     "output_type": "display_data"
    },
    {
     "name": "stdout",
     "output_type": "stream",
     "text": [
      "Mean PPO: -17173.148456184987 Mean SPT:  -17439.659042063744\n"
     ]
    },
    {
     "data": {
      "image/png": "[encoded data removed]",
      "text/plain": [
       "<Figure size 432x288 with 1 Axes>"
      ]
     },
     "metadata": {
      "needs_background": "light"
     },
     "output_type": "display_data"
    },
    {
     "name": "stdout",
     "output_type": "stream",
     "text": [
      "Mean PPO: -166062.48568897852 Mean SPT:  -111237.40235316879\n"
     ]
    },
    {
     "data": {
      "image/png": "[encoded data removed]",
      "text/plain": [
       "<Figure size 432x288 with 1 Axes>"
      ]
     },
     "metadata": {
      "needs_background": "light"
     },
     "output_type": "display_data"
    },
    {
     "name": "stdout",
     "output_type": "stream",
     "text": [
      "Mean PPO: -540819.5002231445 Mean SPT:  -138180.34749219826\n"
     ]
    },
    {
     "data": {
      "image/png": "[encoded data removed]",
      "text/plain": [
       "<Figure size 432x288 with 1 Axes>"
      ]
     },
     "metadata": {
      "needs_background": "light"
     },
     "output_type": "display_data"
    }
   ],
   "source": [
    "for problem in ['slow_server', 'low_utilization', 'high_utilization', 'complete']:\n",
    "    ppo = pd.read_csv(f'results/PPOPlanner_results_{problem}.txt')\n",
    "    spt = pd.read_csv(f'results/ShortestProcessingTime_results_{problem}.txt')\n",
    "\n",
    "    plt.title(problem)\n",
    "    data = [ppo['total_reward'], spt['total_reward']]\n",
    "    print('Mean PPO:', np.mean(ppo['total_reward']), 'Mean SPT: ', np.mean(spt['total_reward']))\n",
    "    plt.boxplot(data)\n",
    "    plt.xticks([1, 2], ['PPO', 'SPT'])\n",
    "    plt.show()\n"
   ]
  },
  {
   "cell_type": "code",
   "execution_count": 3,
   "metadata": {},
   "outputs": [
    {
     "data": {
      "text/html": [
       "<div>\n",
       "<style scoped>\n",
       "    .dataframe tbody tr th:only-of-type {\n",
       "        vertical-align: middle;\n",
       "    }\n",
       "\n",
       "    .dataframe tbody tr th {\n",
       "        vertical-align: top;\n",
       "    }\n",
       "\n",
       "    .dataframe thead th {\n",
       "        text-align: right;\n",
       "    }\n",
       "</style>\n",
       "<table border=\"1\" class=\"dataframe\">\n",
       "  <thead>\n",
       "    <tr style=\"text-align: right;\">\n",
       "      <th></th>\n",
       "      <th>uncompleted_cases</th>\n",
       "      <th>Resource 1</th>\n",
       "      <th>Resource 2</th>\n",
       "      <th>Resource 3</th>\n",
       "      <th>Resource 4</th>\n",
       "      <th>Resource 5</th>\n",
       "      <th>Resource 6</th>\n",
       "      <th>Resource 7</th>\n",
       "      <th>Resource 8</th>\n",
       "      <th>total_reward</th>\n",
       "      <th>mean_cycle_time</th>\n",
       "      <th>std_cycle_time</th>\n",
       "    </tr>\n",
       "  </thead>\n",
       "  <tbody>\n",
       "    <tr>\n",
       "      <th>0</th>\n",
       "      <td>203</td>\n",
       "      <td>0.957824</td>\n",
       "      <td>0.967928</td>\n",
       "      <td>0.192143</td>\n",
       "      <td>0.524423</td>\n",
       "      <td>0.755004</td>\n",
       "      <td>0.836667</td>\n",
       "      <td>0.913221</td>\n",
       "      <td>0.923689</td>\n",
       "      <td>-492849.138640</td>\n",
       "      <td>196.667653</td>\n",
       "      <td>125.551303</td>\n",
       "    </tr>\n",
       "    <tr>\n",
       "      <th>1</th>\n",
       "      <td>231</td>\n",
       "      <td>0.954981</td>\n",
       "      <td>0.975914</td>\n",
       "      <td>0.175119</td>\n",
       "      <td>0.518363</td>\n",
       "      <td>0.735298</td>\n",
       "      <td>0.839311</td>\n",
       "      <td>0.904179</td>\n",
       "      <td>0.912449</td>\n",
       "      <td>-720297.600894</td>\n",
       "      <td>288.696433</td>\n",
       "      <td>142.103640</td>\n",
       "    </tr>\n",
       "    <tr>\n",
       "      <th>2</th>\n",
       "      <td>173</td>\n",
       "      <td>0.954496</td>\n",
       "      <td>0.973445</td>\n",
       "      <td>0.177790</td>\n",
       "      <td>0.514376</td>\n",
       "      <td>0.753908</td>\n",
       "      <td>0.841118</td>\n",
       "      <td>0.909551</td>\n",
       "      <td>0.920279</td>\n",
       "      <td>-389061.643068</td>\n",
       "      <td>157.260163</td>\n",
       "      <td>93.950526</td>\n",
       "    </tr>\n",
       "    <tr>\n",
       "      <th>3</th>\n",
       "      <td>199</td>\n",
       "      <td>0.959768</td>\n",
       "      <td>0.968734</td>\n",
       "      <td>0.185833</td>\n",
       "      <td>0.526961</td>\n",
       "      <td>0.755003</td>\n",
       "      <td>0.828226</td>\n",
       "      <td>0.918489</td>\n",
       "      <td>0.930274</td>\n",
       "      <td>-374622.403825</td>\n",
       "      <td>150.089104</td>\n",
       "      <td>108.956675</td>\n",
       "    </tr>\n",
       "    <tr>\n",
       "      <th>4</th>\n",
       "      <td>226</td>\n",
       "      <td>0.948927</td>\n",
       "      <td>0.976513</td>\n",
       "      <td>0.181979</td>\n",
       "      <td>0.510816</td>\n",
       "      <td>0.745474</td>\n",
       "      <td>0.848872</td>\n",
       "      <td>0.907415</td>\n",
       "      <td>0.918950</td>\n",
       "      <td>-537721.571142</td>\n",
       "      <td>214.231702</td>\n",
       "      <td>130.797208</td>\n",
       "    </tr>\n",
       "    <tr>\n",
       "      <th>5</th>\n",
       "      <td>224</td>\n",
       "      <td>0.958756</td>\n",
       "      <td>0.971194</td>\n",
       "      <td>0.184055</td>\n",
       "      <td>0.530940</td>\n",
       "      <td>0.748838</td>\n",
       "      <td>0.844153</td>\n",
       "      <td>0.918409</td>\n",
       "      <td>0.923030</td>\n",
       "      <td>-658123.196724</td>\n",
       "      <td>260.642850</td>\n",
       "      <td>138.776752</td>\n",
       "    </tr>\n",
       "    <tr>\n",
       "      <th>6</th>\n",
       "      <td>277</td>\n",
       "      <td>0.952873</td>\n",
       "      <td>0.977429</td>\n",
       "      <td>0.186071</td>\n",
       "      <td>0.517833</td>\n",
       "      <td>0.751511</td>\n",
       "      <td>0.851535</td>\n",
       "      <td>0.908472</td>\n",
       "      <td>0.919343</td>\n",
       "      <td>-759426.549885</td>\n",
       "      <td>300.882151</td>\n",
       "      <td>166.240724</td>\n",
       "    </tr>\n",
       "    <tr>\n",
       "      <th>7</th>\n",
       "      <td>191</td>\n",
       "      <td>0.960857</td>\n",
       "      <td>0.975072</td>\n",
       "      <td>0.176695</td>\n",
       "      <td>0.530632</td>\n",
       "      <td>0.758328</td>\n",
       "      <td>0.855031</td>\n",
       "      <td>0.919628</td>\n",
       "      <td>0.931459</td>\n",
       "      <td>-543916.761041</td>\n",
       "      <td>216.959219</td>\n",
       "      <td>124.589058</td>\n",
       "    </tr>\n",
       "    <tr>\n",
       "      <th>8</th>\n",
       "      <td>113</td>\n",
       "      <td>0.965685</td>\n",
       "      <td>0.979637</td>\n",
       "      <td>0.168025</td>\n",
       "      <td>0.517154</td>\n",
       "      <td>0.758404</td>\n",
       "      <td>0.811769</td>\n",
       "      <td>0.934528</td>\n",
       "      <td>0.947901</td>\n",
       "      <td>-195589.478623</td>\n",
       "      <td>79.282318</td>\n",
       "      <td>51.914155</td>\n",
       "    </tr>\n",
       "    <tr>\n",
       "      <th>9</th>\n",
       "      <td>265</td>\n",
       "      <td>0.961572</td>\n",
       "      <td>0.979428</td>\n",
       "      <td>0.174726</td>\n",
       "      <td>0.533356</td>\n",
       "      <td>0.763505</td>\n",
       "      <td>0.852996</td>\n",
       "      <td>0.907567</td>\n",
       "      <td>0.921467</td>\n",
       "      <td>-736586.658390</td>\n",
       "      <td>289.311335</td>\n",
       "      <td>153.520654</td>\n",
       "    </tr>\n",
       "  </tbody>\n",
       "</table>\n",
       "</div>"
      ],
      "text/plain": [
       "   uncompleted_cases  Resource 1  Resource 2  Resource 3  Resource 4  \\\n",
       "0                203    0.957824    0.967928    0.192143    0.524423   \n",
       "1                231    0.954981    0.975914    0.175119    0.518363   \n",
       "2                173    0.954496    0.973445    0.177790    0.514376   \n",
       "3                199    0.959768    0.968734    0.185833    0.526961   \n",
       "4                226    0.948927    0.976513    0.181979    0.510816   \n",
       "5                224    0.958756    0.971194    0.184055    0.530940   \n",
       "6                277    0.952873    0.977429    0.186071    0.517833   \n",
       "7                191    0.960857    0.975072    0.176695    0.530632   \n",
       "8                113    0.965685    0.979637    0.168025    0.517154   \n",
       "9                265    0.961572    0.979428    0.174726    0.533356   \n",
       "\n",
       "   Resource 5  Resource 6  Resource 7  Resource 8   total_reward  \\\n",
       "0    0.755004    0.836667    0.913221    0.923689 -492849.138640   \n",
       "1    0.735298    0.839311    0.904179    0.912449 -720297.600894   \n",
       "2    0.753908    0.841118    0.909551    0.920279 -389061.643068   \n",
       "3    0.755003    0.828226    0.918489    0.930274 -374622.403825   \n",
       "4    0.745474    0.848872    0.907415    0.918950 -537721.571142   \n",
       "5    0.748838    0.844153    0.918409    0.923030 -658123.196724   \n",
       "6    0.751511    0.851535    0.908472    0.919343 -759426.549885   \n",
       "7    0.758328    0.855031    0.919628    0.931459 -543916.761041   \n",
       "8    0.758404    0.811769    0.934528    0.947901 -195589.478623   \n",
       "9    0.763505    0.852996    0.907567    0.921467 -736586.658390   \n",
       "\n",
       "   mean_cycle_time  std_cycle_time  \n",
       "0       196.667653      125.551303  \n",
       "1       288.696433      142.103640  \n",
       "2       157.260163       93.950526  \n",
       "3       150.089104      108.956675  \n",
       "4       214.231702      130.797208  \n",
       "5       260.642850      138.776752  \n",
       "6       300.882151      166.240724  \n",
       "7       216.959219      124.589058  \n",
       "8        79.282318       51.914155  \n",
       "9       289.311335      153.520654  "
      ]
     },
     "execution_count": 3,
     "metadata": {},
     "output_type": "execute_result"
    }
   ],
   "source": [
    "ppo"
   ]
  }
 ],
 "metadata": {
  "kernelspec": {
   "display_name": "drl_env",
   "language": "python",
   "name": "python3"
  },
  "language_info": {
   "codemirror_mode": {
    "name": "ipython",
    "version": 3
   },
   "file_extension": ".py",
   "mimetype": "text/x-python",
   "name": "python",
   "nbconvert_exporter": "python",
   "pygments_lexer": "ipython3",
   "version": "3.9.7"
  },
  "orig_nbformat": 4,
  "vscode": {
   "interpreter": {
    "hash": "14c38002a5b3e6c1ac64d1bf5718acb41d4f33392faf0593773539a8dbe48be9"
   }
  }
 },
 "nbformat": 4,
 "nbformat_minor": 2
}
