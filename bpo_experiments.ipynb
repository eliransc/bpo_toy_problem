{
 "cells": [
  {
   "cell_type": "code",
   "execution_count": 80,
   "id": "3e0c296a-8cf0-4ff4-b3fb-6ebdbb8108f3",
   "metadata": {
    "tags": []
   },
   "outputs": [],
   "source": [
    "import numpy as np\n",
    "import pandas as pd\n",
    "import pickle as pkl\n",
    "import os\n",
    "import sys\n",
    "sys.path.append(r'C:\\Users\\user\\workspace\\scikit-optimize')\n",
    "sys.path.append(r'C:\\Users\\user\\workspace\\scikit-optimize\\skopt')\n",
    "\n",
    "from simulator import Simulator\n",
    "from planners import GreedyPlanner, ShortestProcessingTime, DedicatedResourcePlanner, PPOPlanner, Bayes_planner\n",
    "import pandas as pd\n",
    "\n",
    "running_time = 5000\n",
    "import numpy as np\n",
    "import pickle as pkl\n",
    "\n",
    "import random\n",
    "from abc import ABC, abstractmethod\n",
    "# from sb3_contrib.ppo_mask import MaskablePPO\n",
    "import numpy as np\n",
    "from typing import List\n",
    "import pandas as pd\n",
    "import numpy as np\n",
    "from enum import Enum, auto\n",
    "from collections import deque\n",
    "import random\n",
    "from planners import GreedyPlanner\n",
    "import json"
   ]
  },
  {
   "cell_type": "code",
   "execution_count": 85,
   "id": "e42b7b92-8f6b-414c-97c7-d13fe93d23a1",
   "metadata": {
    "tags": []
   },
   "outputs": [],
   "source": [
    "path = r'C:\\Users\\user\\workspace\\bpo_toy_problem'\n",
    "files = os.listdir(path)\n",
    "\n",
    "files = [file for file in files if 'complete_system' in file]"
   ]
  },
  {
   "cell_type": "code",
   "execution_count": 86,
   "id": "f43ba201-aa35-4ab4-87b9-7ef3947e220e",
   "metadata": {
    "tags": []
   },
   "outputs": [
    {
     "data": {
      "text/plain": [
       "['945complete_system.pkl']"
      ]
     },
     "execution_count": 86,
     "metadata": {},
     "output_type": "execute_result"
    }
   ],
   "source": [
    "files"
   ]
  },
  {
   "cell_type": "code",
   "execution_count": null,
   "id": "c3f6929d-f703-4bf3-81d8-0af35f234714",
   "metadata": {},
   "outputs": [],
   "source": [
    "results_path = os.path.join(path, files[0])\n",
    "reuslt_"
   ]
  },
  {
   "cell_type": "code",
   "execution_count": 62,
   "id": "582b9ee8-4a17-4071-bc50-637d7e362f3f",
   "metadata": {
    "tags": []
   },
   "outputs": [],
   "source": [
    "simulator = pkl.load(open('simulator.pkl', 'rb'))\n",
    "res = pkl.load(open('res_slow.pkl', 'rb'))"
   ]
  },
  {
   "cell_type": "code",
   "execution_count": 77,
   "id": "0cfa5769-3d01-4884-b725-dd45443157d8",
   "metadata": {
    "tags": []
   },
   "outputs": [],
   "source": [
    "\n",
    "res = pkl.load(open('17385_res_low_utilization.pkl', 'rb'))"
   ]
  },
  {
   "cell_type": "code",
   "execution_count": 79,
   "id": "9eb45b11-9cc1-4e5d-9647-3b37182d3763",
   "metadata": {
    "tags": []
   },
   "outputs": [
    {
     "data": {
      "text/plain": [
       "[[2.4883183323632467,\n",
       "  4.089192205582848,\n",
       "  3.0605594733863546,\n",
       "  3.856799594312006,\n",
       "  4.303348856888437,\n",
       "  8.95828055287924],\n",
       " [0.9925937951308552,\n",
       "  4.075814670255012,\n",
       "  0.7940767659221827,\n",
       "  0.5806891380927438,\n",
       "  0.06453765559923332,\n",
       "  13.328834763802725],\n",
       " [1.6550771412514906,\n",
       "  4.013197845602437,\n",
       "  0.4912596777527102,\n",
       "  0.27996724482935503,\n",
       "  2.2133132447961144,\n",
       "  7.287870876839355],\n",
       " [4.381994502219106,\n",
       "  4.429832042989502,\n",
       "  0.4920014341663059,\n",
       "  1.5241329678243858,\n",
       "  2.3687843516853437,\n",
       "  8.218690161250413],\n",
       " [4.588166452756962, 3.634079121013234, 5.0, 5.0, 5.0, 13.712720624873093],\n",
       " [0.3944248570964263,\n",
       "  3.0507438532242785,\n",
       "  2.0656614201573475,\n",
       "  1.9742919805820742,\n",
       "  3.516458295067057,\n",
       "  11.84144487499018],\n",
       " [2.559840021962593, 3.843095352756683, 5.0, 5.0, 5.0, 20.0],\n",
       " [1.9990759140978298,\n",
       "  0.0003339795425710835,\n",
       "  0.8225481067431052,\n",
       "  3.6699956421346025,\n",
       "  0.1657200214011856,\n",
       "  19.10915222307989],\n",
       " [0.9888980830707359,\n",
       "  3.9348478906439546,\n",
       "  3.76821129514527,\n",
       "  4.370286461478045,\n",
       "  2.447425832734032,\n",
       "  13.351047228336785],\n",
       " [3.2893376833422905,\n",
       "  0.04860531560067165,\n",
       "  0.49137895114322994,\n",
       "  2.0892660233554223,\n",
       "  2.1706531001872316,\n",
       "  10.18878180989117],\n",
       " [1.1955948653482538,\n",
       "  1.7341567467695416,\n",
       "  2.200706859934882,\n",
       "  0.793337815523774,\n",
       "  2.228365121828953,\n",
       "  16.85260571468296],\n",
       " [1.6807859315764384,\n",
       "  4.4407949159529725,\n",
       "  0.6774295848453917,\n",
       "  3.3480234093540733,\n",
       "  0.04562066801743947,\n",
       "  14.08472658575176],\n",
       " [4.203126703840104,\n",
       "  4.258470370656002,\n",
       "  4.217247003827552,\n",
       "  4.429605548791203,\n",
       "  4.374978314496809,\n",
       "  8.932482513065791],\n",
       " [1.3505799212367178, 1.7251025987875412, 0.0, 0.0, 5.0, 7.0],\n",
       " [0.5535721370192921,\n",
       "  3.4986340948486054,\n",
       "  3.588751794425011,\n",
       "  3.3572606830905616,\n",
       "  4.249023834390434,\n",
       "  8.090644621633503]]"
      ]
     },
     "execution_count": 79,
     "metadata": {},
     "output_type": "execute_result"
    }
   ],
   "source": [
    "res[1]"
   ]
  },
  {
   "cell_type": "code",
   "execution_count": 71,
   "id": "4281038a-9103-4812-99a5-ab2b09a385ce",
   "metadata": {
    "tags": []
   },
   "outputs": [
    {
     "ename": "ModuleNotFoundError",
     "evalue": "No module named 'scipy.optimize._optimize'",
     "output_type": "error",
     "traceback": [
      "\u001b[1;31m---------------------------------------------------------------------------\u001b[0m",
      "\u001b[1;31mModuleNotFoundError\u001b[0m                       Traceback (most recent call last)",
      "Cell \u001b[1;32mIn[71], line 1\u001b[0m\n\u001b[1;32m----> 1\u001b[0m res \u001b[38;5;241m=\u001b[39m \u001b[43mpkl\u001b[49m\u001b[38;5;241;43m.\u001b[39;49m\u001b[43mload\u001b[49m\u001b[43m(\u001b[49m\u001b[38;5;28;43mopen\u001b[39;49m\u001b[43m(\u001b[49m\u001b[38;5;124;43m'\u001b[39;49m\u001b[38;5;124;43m35571_res_n_system.pkl\u001b[39;49m\u001b[38;5;124;43m'\u001b[39;49m\u001b[43m,\u001b[49m\u001b[43m \u001b[49m\u001b[38;5;124;43m'\u001b[39;49m\u001b[38;5;124;43mrb\u001b[39;49m\u001b[38;5;124;43m'\u001b[39;49m\u001b[43m)\u001b[49m\u001b[43m)\u001b[49m\n",
      "\u001b[1;31mModuleNotFoundError\u001b[0m: No module named 'scipy.optimize._optimize'"
     ]
    }
   ],
   "source": [
    "\n",
    "res = pkl.load(open('35571_res_n_system.pkl', 'rb'))"
   ]
  },
  {
   "cell_type": "code",
   "execution_count": 64,
   "id": "5c834fe2-60b3-4551-bc58-b0430288d5e1",
   "metadata": {
    "tags": []
   },
   "outputs": [
    {
     "data": {
      "text/plain": [
       "array([10.43879991,  5.09188916, 33.5502984 ,  4.76479367])"
      ]
     },
     "execution_count": 64,
     "metadata": {},
     "output_type": "execute_result"
    }
   ],
   "source": [
    "res.func_vals"
   ]
  },
  {
   "cell_type": "code",
   "execution_count": 4,
   "id": "d8a03ef6-5a8a-4e7c-b0d2-8351a9a85183",
   "metadata": {
    "tags": []
   },
   "outputs": [
    {
     "data": {
      "text/plain": [
       "Space([Real(low=0, high=5, prior='uniform', transform='normalize'),\n",
       "       Real(low=0, high=5, prior='uniform', transform='normalize'),\n",
       "       Real(low=0, high=5, prior='uniform', transform='normalize'),\n",
       "       Real(low=0, high=5, prior='uniform', transform='normalize'),\n",
       "       Real(low=0, high=5, prior='uniform', transform='normalize'),\n",
       "       Real(low=10, high=15, prior='uniform', transform='normalize')])"
      ]
     },
     "execution_count": 4,
     "metadata": {},
     "output_type": "execute_result"
    }
   ],
   "source": [
    "res.space"
   ]
  },
  {
   "cell_type": "code",
   "execution_count": 76,
   "id": "b47fcf8b-7d09-4e0e-81b8-fe363ad808f7",
   "metadata": {
    "tags": []
   },
   "outputs": [
    {
     "data": {
      "text/plain": [
       "[[2.4883183323632467,\n",
       "  4.089192205582848,\n",
       "  3.0605594733863546,\n",
       "  3.856799594312006,\n",
       "  4.303348856888437,\n",
       "  8.95828055287924],\n",
       " [0.9925937951308552,\n",
       "  4.075814670255012,\n",
       "  0.7940767659221827,\n",
       "  0.5806891380927438,\n",
       "  0.06453765559923332,\n",
       "  13.328834763802725],\n",
       " [1.6550771412514906,\n",
       "  4.013197845602437,\n",
       "  0.4912596777527102,\n",
       "  0.27996724482935503,\n",
       "  2.2133132447961144,\n",
       "  7.287870876839355],\n",
       " [2.2318941181869087,\n",
       "  4.132617355906934,\n",
       "  0.7820617966962697,\n",
       "  0.8531819918352211,\n",
       "  4.2802261388112735,\n",
       "  18.80795709258492],\n",
       " [5.0, 0.0, 5.0, 5.0, 0.681481066689476, 7.0],\n",
       " [0.0, 3.0777972487129244, 0.0, 0.0, 0.0, 20.0],\n",
       " [0.0, 5.0, 0.0, 0.0, 0.0, 7.0],\n",
       " [5.0, 3.869655353328999, 5.0, 2.838147363775929, 0.0, 10.313202463819424],\n",
       " [0.0, 3.9261298083256553, 5.0, 0.0, 0.0, 7.0],\n",
       " [5.0, 3.9373187015113493, 0.0, 5.0, 0.0, 7.0],\n",
       " [0.0, 3.5709729142231943, 2.546561324057649, 0.0, 5.0, 20.0],\n",
       " [0.0, 0.0, 3.4194410395221135, 2.2074982920997743, 0.0, 7.0],\n",
       " [5.0, 5.0, 1.2477119636328107, 0.0, 5.0, 20.0],\n",
       " [0.0, 0.0, 5.0, 3.793810403006827, 5.0, 7.0],\n",
       " [0.0, 5.0, 3.812446400231515, 3.381230363896013, 0.0, 20.0]]"
      ]
     },
     "execution_count": 76,
     "metadata": {},
     "output_type": "execute_result"
    }
   ],
   "source": [
    "res.x_iters"
   ]
  },
  {
   "cell_type": "code",
   "execution_count": 74,
   "id": "825607c7-311a-4928-994b-a9ccbb85978c",
   "metadata": {
    "tags": []
   },
   "outputs": [
    {
     "data": {
      "text/plain": [
       "numpy.ndarray"
      ]
     },
     "execution_count": 75,
     "metadata": {},
     "output_type": "execute_result"
    }
   ],
   "source": [
    "type(res.x_iters)"
   ]
  },
  {
   "cell_type": "code",
   "execution_count": 4,
   "id": "f15ed1f4-00bf-4968-a3db-f2280b789d4e",
   "metadata": {},
   "outputs": [],
   "source": [
    "tasks = [key for key in simulator.resource_pools.keys()]"
   ]
  },
  {
   "cell_type": "code",
   "execution_count": 8,
   "id": "5edf8d11-f3f6-4fb5-9a20-a50242524970",
   "metadata": {},
   "outputs": [
    {
     "data": {
      "text/plain": [
       "'Task A'"
      ]
     },
     "execution_count": 8,
     "metadata": {},
     "output_type": "execute_result"
    }
   ],
   "source": [
    "tasks[0]"
   ]
  },
  {
   "cell_type": "code",
   "execution_count": 16,
   "id": "4e72ac07-3fe5-42b8-b70b-18842049fec4",
   "metadata": {},
   "outputs": [
    {
     "data": {
      "text/plain": [
       "1.4"
      ]
     },
     "execution_count": 16,
     "metadata": {},
     "output_type": "execute_result"
    }
   ],
   "source": [
    "simulator.resource_pools[tasks[0]][key][0]"
   ]
  },
  {
   "cell_type": "code",
   "execution_count": 13,
   "id": "843014db-92ab-4219-8802-3a2cfbc11308",
   "metadata": {},
   "outputs": [
    {
     "name": "stdout",
     "output_type": "stream",
     "text": [
      "Resource 1\n",
      "Resource 2\n"
     ]
    }
   ],
   "source": [
    "for key in simulator.resource_pools[tasks[0]].keys():\n",
    "    print(key)"
   ]
  },
  {
   "cell_type": "code",
   "execution_count": 14,
   "id": "ac5e9d55-2c9a-4161-9f7f-ba76d1bf6c04",
   "metadata": {},
   "outputs": [
    {
     "data": {
      "text/plain": [
       "'Resource 2'"
      ]
     },
     "execution_count": 14,
     "metadata": {},
     "output_type": "execute_result"
    }
   ],
   "source": [
    "key"
   ]
  },
  {
   "cell_type": "code",
   "execution_count": 27,
   "id": "3917e9cd-7d70-4b84-9b9b-00a016654d2f",
   "metadata": {},
   "outputs": [],
   "source": [
    "df = pd.DataFrame([])\n",
    "\n",
    "for ind in range(len(tasks)):\n",
    "    df.loc[ind, 'task'] = tasks[ind]\n",
    "    df.loc[ind, 'prob_finish'] = simulator.transitions[tasks[ind]][-1]\n",
    "    for key in simulator.resource_pools[tasks[ind]].keys():\n",
    "        df.loc[ind, key] = simulator.resource_pools[tasks[ind]][key][0]"
   ]
  },
  {
   "cell_type": "code",
   "execution_count": 21,
   "id": "04c59d0e-ead0-42a8-872a-06411a09f9fd",
   "metadata": {},
   "outputs": [
    {
     "data": {
      "text/plain": [
       "1.4"
      ]
     },
     "execution_count": 21,
     "metadata": {},
     "output_type": "execute_result"
    }
   ],
   "source": [
    "df.loc[df['task'] == 'Task A',key].item()"
   ]
  },
  {
   "cell_type": "code",
   "execution_count": 28,
   "id": "55823509-9c6b-456f-8301-9e4a6b952909",
   "metadata": {},
   "outputs": [
    {
     "data": {
      "text/html": [
       "<div>\n",
       "<style scoped>\n",
       "    .dataframe tbody tr th:only-of-type {\n",
       "        vertical-align: middle;\n",
       "    }\n",
       "\n",
       "    .dataframe tbody tr th {\n",
       "        vertical-align: top;\n",
       "    }\n",
       "\n",
       "    .dataframe thead th {\n",
       "        text-align: right;\n",
       "    }\n",
       "</style>\n",
       "<table border=\"1\" class=\"dataframe\">\n",
       "  <thead>\n",
       "    <tr style=\"text-align: right;\">\n",
       "      <th></th>\n",
       "      <th>task</th>\n",
       "      <th>prob_finish</th>\n",
       "      <th>Resource 1</th>\n",
       "      <th>Resource 2</th>\n",
       "    </tr>\n",
       "  </thead>\n",
       "  <tbody>\n",
       "    <tr>\n",
       "      <th>0</th>\n",
       "      <td>Task A</td>\n",
       "      <td>0.0</td>\n",
       "      <td>1.8</td>\n",
       "      <td>1.4</td>\n",
       "    </tr>\n",
       "    <tr>\n",
       "      <th>1</th>\n",
       "      <td>Task B</td>\n",
       "      <td>1.0</td>\n",
       "      <td>1.4</td>\n",
       "      <td>25.0</td>\n",
       "    </tr>\n",
       "  </tbody>\n",
       "</table>\n",
       "</div>"
      ],
      "text/plain": [
       "     task  prob_finish  Resource 1  Resource 2\n",
       "0  Task A          0.0         1.8         1.4\n",
       "1  Task B          1.0         1.4        25.0"
      ]
     },
     "execution_count": 28,
     "metadata": {},
     "output_type": "execute_result"
    }
   ],
   "source": [
    "df"
   ]
  },
  {
   "cell_type": "code",
   "execution_count": 24,
   "id": "5f4b7434-0f0f-4c66-92ba-5e6359b5c9b3",
   "metadata": {},
   "outputs": [
    {
     "data": {
      "text/plain": [
       "[0, 1, 0]"
      ]
     },
     "execution_count": 24,
     "metadata": {},
     "output_type": "execute_result"
    }
   ],
   "source": [
    "simulator.transitions['Task A']"
   ]
  },
  {
   "cell_type": "code",
   "execution_count": 26,
   "id": "2878bb70-1ef4-45ca-b6bc-978783d62340",
   "metadata": {},
   "outputs": [
    {
     "data": {
      "text/plain": [
       "1"
      ]
     },
     "execution_count": 26,
     "metadata": {},
     "output_type": "execute_result"
    }
   ],
   "source": [
    "simulator.transitions['Task B'][-1]"
   ]
  },
  {
   "cell_type": "code",
   "execution_count": 37,
   "id": "e92f533f-ce07-421f-a0cd-a50625d4d2df",
   "metadata": {},
   "outputs": [
    {
     "data": {
      "text/plain": [
       "1.4"
      ]
     },
     "execution_count": 37,
     "metadata": {},
     "output_type": "execute_result"
    }
   ],
   "source": [
    "a1 = 1\n",
    "a2 = 3\n",
    "\n",
    "curr_task =  'Task A'\n",
    "curr_res = key\n",
    "\n",
    "mean_val = df.loc[df['task'] == curr_task, curr_res].item()\n",
    "prob_fin = df.loc[df['task'] == curr_task, 'prob_finish'].item()\n",
    "\n",
    "a1*mean_val - a2*prob_fin"
   ]
  },
  {
   "cell_type": "code",
   "execution_count": 38,
   "id": "2bb78afb-ca10-4b66-94e4-fd39c9ee63bb",
   "metadata": {},
   "outputs": [],
   "source": [
    "available_tasks = pkl.load(open('available_task.pkl', 'rb'))"
   ]
  },
  {
   "cell_type": "code",
   "execution_count": 48,
   "id": "f43062a1-b0b1-4329-a543-685ef15d3761",
   "metadata": {},
   "outputs": [
    {
     "data": {
      "text/plain": [
       "<simulator.Task at 0x1b3673b1d48>"
      ]
     },
     "execution_count": 48,
     "metadata": {},
     "output_type": "execute_result"
    }
   ],
   "source": [
    "available_tasks[0]"
   ]
  },
  {
   "cell_type": "code",
   "execution_count": 49,
   "id": "698573ad-308c-4eae-a564-9d599864b334",
   "metadata": {},
   "outputs": [],
   "source": [
    "dff = pd.DataFrame([])\n",
    "\n",
    "dff.loc[0,'task'] = available_tasks[0] "
   ]
  },
  {
   "cell_type": "code",
   "execution_count": 50,
   "id": "33fdbfde-6961-4db0-97b1-5bd419217887",
   "metadata": {},
   "outputs": [
    {
     "data": {
      "text/html": [
       "<div>\n",
       "<style scoped>\n",
       "    .dataframe tbody tr th:only-of-type {\n",
       "        vertical-align: middle;\n",
       "    }\n",
       "\n",
       "    .dataframe tbody tr th {\n",
       "        vertical-align: top;\n",
       "    }\n",
       "\n",
       "    .dataframe thead th {\n",
       "        text-align: right;\n",
       "    }\n",
       "</style>\n",
       "<table border=\"1\" class=\"dataframe\">\n",
       "  <thead>\n",
       "    <tr style=\"text-align: right;\">\n",
       "      <th></th>\n",
       "      <th>task</th>\n",
       "    </tr>\n",
       "  </thead>\n",
       "  <tbody>\n",
       "    <tr>\n",
       "      <th>0</th>\n",
       "      <td>&lt;simulator.Task object at 0x000001B3673B1D48&gt;</td>\n",
       "    </tr>\n",
       "  </tbody>\n",
       "</table>\n",
       "</div>"
      ],
      "text/plain": [
       "                                            task\n",
       "0  <simulator.Task object at 0x000001B3673B1D48>"
      ]
     },
     "execution_count": 50,
     "metadata": {},
     "output_type": "execute_result"
    }
   ],
   "source": [
    "dff"
   ]
  },
  {
   "cell_type": "code",
   "execution_count": 41,
   "id": "13fb50e5-125e-4256-a02a-ac61ef8314b8",
   "metadata": {},
   "outputs": [
    {
     "name": "stdout",
     "output_type": "stream",
     "text": [
      "Task A\n",
      "Task A\n",
      "Task B\n"
     ]
    }
   ],
   "source": [
    "queue_len = {}\n",
    "keys_lens = [key for key in queue_len]\n",
    "for ind in range(len(available_tasks)):\n",
    "    print(available_tasks[ind].task_type)\n",
    "    if available_tasks[ind].task_type in keys_lens:         \n",
    "        queue_len[available_tasks[ind].task_type] += 1\n",
    "    else:\n",
    "        queue_len[available_tasks[ind].task_type] = 1\n",
    "        keys_lens = [key for key in queue_len]"
   ]
  },
  {
   "cell_type": "code",
   "execution_count": 40,
   "id": "f6915b6f-53e0-48bf-8e2b-ddbd25b4c045",
   "metadata": {},
   "outputs": [
    {
     "data": {
      "text/plain": [
       "[]"
      ]
     },
     "execution_count": 40,
     "metadata": {},
     "output_type": "execute_result"
    }
   ],
   "source": [
    "queue_len = {}\n",
    "keys_lens = [key for key in queue_len]\n",
    "keys_lens"
   ]
  },
  {
   "cell_type": "code",
   "execution_count": 43,
   "id": "ed87ba5e-d447-4462-92d2-3dbb26038b10",
   "metadata": {},
   "outputs": [
    {
     "data": {
      "text/plain": [
       "2"
      ]
     },
     "execution_count": 43,
     "metadata": {},
     "output_type": "execute_result"
    }
   ],
   "source": [
    "queue_len['Task A']"
   ]
  },
  {
   "cell_type": "code",
   "execution_count": 73,
   "id": "8cb5d5b4-a6ea-48d9-89eb-1d771d95a408",
   "metadata": {},
   "outputs": [
    {
     "data": {
      "text/html": [
       "<div>\n",
       "<style scoped>\n",
       "    .dataframe tbody tr th:only-of-type {\n",
       "        vertical-align: middle;\n",
       "    }\n",
       "\n",
       "    .dataframe tbody tr th {\n",
       "        vertical-align: top;\n",
       "    }\n",
       "\n",
       "    .dataframe thead th {\n",
       "        text-align: right;\n",
       "    }\n",
       "</style>\n",
       "<table border=\"1\" class=\"dataframe\">\n",
       "  <thead>\n",
       "    <tr style=\"text-align: right;\">\n",
       "      <th></th>\n",
       "      <th>Resource 1</th>\n",
       "      <th>Resource 2</th>\n",
       "    </tr>\n",
       "  </thead>\n",
       "  <tbody>\n",
       "    <tr>\n",
       "      <th>1</th>\n",
       "      <td>1.4</td>\n",
       "      <td>25.0</td>\n",
       "    </tr>\n",
       "  </tbody>\n",
       "</table>\n",
       "</div>"
      ],
      "text/plain": [
       "   Resource 1  Resource 2\n",
       "1         1.4        25.0"
      ]
     },
     "execution_count": 73,
     "metadata": {},
     "output_type": "execute_result"
    }
   ],
   "source": [
    "df.loc[df['task'] == 'Task B', ['Resource 1', 'Resource 2']]"
   ]
  },
  {
   "cell_type": "code",
   "execution_count": 77,
   "id": "25c3e74f-679b-4df7-9a87-f606fa4f3680",
   "metadata": {},
   "outputs": [
    {
     "data": {
      "text/html": [
       "<div>\n",
       "<style scoped>\n",
       "    .dataframe tbody tr th:only-of-type {\n",
       "        vertical-align: middle;\n",
       "    }\n",
       "\n",
       "    .dataframe tbody tr th {\n",
       "        vertical-align: top;\n",
       "    }\n",
       "\n",
       "    .dataframe thead th {\n",
       "        text-align: right;\n",
       "    }\n",
       "</style>\n",
       "<table border=\"1\" class=\"dataframe\">\n",
       "  <thead>\n",
       "    <tr style=\"text-align: right;\">\n",
       "      <th></th>\n",
       "      <th>task</th>\n",
       "      <th>prob_finish</th>\n",
       "      <th>Resource 1</th>\n",
       "      <th>Resource 2</th>\n",
       "    </tr>\n",
       "  </thead>\n",
       "  <tbody>\n",
       "    <tr>\n",
       "      <th>0</th>\n",
       "      <td>Task A</td>\n",
       "      <td>0.0</td>\n",
       "      <td>1.8</td>\n",
       "      <td>1.4</td>\n",
       "    </tr>\n",
       "    <tr>\n",
       "      <th>1</th>\n",
       "      <td>Task B</td>\n",
       "      <td>1.0</td>\n",
       "      <td>1.4</td>\n",
       "      <td>25.0</td>\n",
       "    </tr>\n",
       "  </tbody>\n",
       "</table>\n",
       "</div>"
      ],
      "text/plain": [
       "     task  prob_finish  Resource 1  Resource 2\n",
       "0  Task A          0.0         1.8         1.4\n",
       "1  Task B          1.0         1.4        25.0"
      ]
     },
     "execution_count": 77,
     "metadata": {},
     "output_type": "execute_result"
    }
   ],
   "source": [
    "df"
   ]
  },
  {
   "cell_type": "code",
   "execution_count": 75,
   "id": "2d412cc8-0469-4297-a86c-da65ea39c8e5",
   "metadata": {},
   "outputs": [
    {
     "data": {
      "text/plain": [
       "1.8"
      ]
     },
     "execution_count": 75,
     "metadata": {},
     "output_type": "execute_result"
    }
   ],
   "source": [
    "df.loc[df['task'] == task, 'Resource 1'].item()"
   ]
  },
  {
   "cell_type": "code",
   "execution_count": 83,
   "id": "1fd658eb-4db7-4636-bad8-d751253beb4c",
   "metadata": {},
   "outputs": [
    {
     "data": {
      "text/plain": [
       "'Task A'"
      ]
     },
     "execution_count": 83,
     "metadata": {},
     "output_type": "execute_result"
    }
   ],
   "source": [
    "task"
   ]
  },
  {
   "cell_type": "code",
   "execution_count": 84,
   "id": "6fb1e0fd-d7eb-4280-86b1-a3e582c3e2e8",
   "metadata": {},
   "outputs": [],
   "source": [
    "task_ranking = {}\n",
    "task_ranking[task] = 1 "
   ]
  },
  {
   "cell_type": "code",
   "execution_count": 81,
   "id": "a6b715b4-06d0-41ce-9718-120ba5b3a57e",
   "metadata": {},
   "outputs": [
    {
     "data": {
      "text/plain": [
       "(['Resource 2', 'Resource 1'], 'Task A')"
      ]
     },
     "execution_count": 81,
     "metadata": {},
     "output_type": "execute_result"
    }
   ],
   "source": [
    "task_ranking, task"
   ]
  },
  {
   "cell_type": "code",
   "execution_count": 85,
   "id": "7fed592c-d7e0-4ec4-a634-cad8bdf2f4af",
   "metadata": {},
   "outputs": [
    {
     "name": "stdout",
     "output_type": "stream",
     "text": [
      "Task A ['Resource 2', 'Resource 1']\n",
      "Task B ['Resource 1', 'Resource 2']\n"
     ]
    }
   ],
   "source": [
    "task_ranking_dict = {}\n",
    "\n",
    "Tasks_names = ['Task A', 'Task B']\n",
    "\n",
    "for task in Tasks_names:\n",
    "\n",
    "    if df.loc[df['task'] == task, 'Resource 1'].item() < df.loc[df['task'] == task, 'Resource 2'].item():\n",
    "        task_ranking = ['Resource 1', 'Resource 2']\n",
    "    else:\n",
    "        task_ranking = ['Resource 2', 'Resource 1']\n",
    "    \n",
    "    task_ranking_dict[task] = task_ranking\n",
    "    \n",
    "    print(task, task_ranking)\n",
    "\n",
    "resourse_ranking_dict = {}\n",
    "\n",
    "res_names = ['Resource 1', 'Resource 2']\n",
    "\n",
    "for res in res_names:\n",
    "\n",
    "    if df.loc[df['task'] == 'Task A', res].item() < df.loc[df['task'] == 'Task B' , res].item():\n",
    "        res_ranking = ['Task A', 'Task B']\n",
    "    else:\n",
    "        res_ranking = ['Task B', 'Task A']\n",
    "    \n",
    "    resourse_ranking_dict[res] = res_ranking"
   ]
  },
  {
   "cell_type": "code",
   "execution_count": 100,
   "id": "d7e24b23-d656-420b-a7e6-0b4016fa006a",
   "metadata": {},
   "outputs": [
    {
     "data": {
      "text/plain": [
       "'Task B'"
      ]
     },
     "execution_count": 100,
     "metadata": {},
     "output_type": "execute_result"
    }
   ],
   "source": [
    "resourse_ranking_dict['Resource 1'][0]"
   ]
  },
  {
   "cell_type": "code",
   "execution_count": 109,
   "id": "5d48555c-c9e4-4f62-8a72-85ede91912e4",
   "metadata": {},
   "outputs": [
    {
     "data": {
      "text/plain": [
       "(dict_keys(['Resource 1', 'Resource 2']), 'Task B')"
      ]
     },
     "execution_count": 109,
     "metadata": {},
     "output_type": "execute_result"
    }
   ],
   "source": [
    "resourse_ranking_dict.keys(), resourse_ranking_dict['Resource 1'][0]"
   ]
  },
  {
   "cell_type": "code",
   "execution_count": 103,
   "id": "16edb393-565f-45d4-b224-25c2417e0cf5",
   "metadata": {},
   "outputs": [],
   "source": [
    "resource_ranking_dict_score = {}\n",
    "\n",
    "for key in resourse_ranking_dict.keys():\n",
    "    resource_ranking_dict_score[(key, resourse_ranking_dict['Resource 1'][0])] = 1\n",
    "    resource_ranking_dict_score[(key, resourse_ranking_dict['Resource 1'][1])] = 2\n",
    "\n",
    "task_ranking_dict_score = {}\n",
    "\n",
    "for key in resourse_ranking_dict.keys():\n",
    "    task_ranking_dict_score[(key, task_ranking_dict['Task A'][0])] = 1\n",
    "    task_ranking_dict_score[(key, task_ranking_dict['Task B'][1])] = 2"
   ]
  },
  {
   "cell_type": "code",
   "execution_count": 104,
   "id": "ef13d084-fdd2-425f-90c5-7b50bd479a34",
   "metadata": {},
   "outputs": [
    {
     "data": {
      "text/plain": [
       "{('Resource 1', 'Task B'): 1,\n",
       " ('Resource 1', 'Task A'): 2,\n",
       " ('Resource 2', 'Task B'): 1,\n",
       " ('Resource 2', 'Task A'): 2}"
      ]
     },
     "execution_count": 104,
     "metadata": {},
     "output_type": "execute_result"
    }
   ],
   "source": [
    "resource_ranking_dict_score"
   ]
  },
  {
   "cell_type": "code",
   "execution_count": 105,
   "id": "0aeda957-d335-42c0-9477-ddc3a3bbad72",
   "metadata": {},
   "outputs": [],
   "source": [
    "task_ranking_dict_score = {}\n",
    "\n",
    "for key in resourse_ranking_dict.keys():\n",
    "    task_ranking_dict_score[(key, task_ranking_dict['Task A'][0])] = 1\n",
    "    task_ranking_dict_score[(key, task_ranking_dict['Task B'][1])] = 2"
   ]
  },
  {
   "cell_type": "code",
   "execution_count": 93,
   "id": "a7fd7413-8d06-418d-8e9c-7fc9c9327928",
   "metadata": {},
   "outputs": [
    {
     "name": "stdout",
     "output_type": "stream",
     "text": [
      "Resource 1 {'Resource 1': ['Task B', 'Task A']}\n",
      "Resource 2 {'Resource 1': ['Task B', 'Task A'], 'Resource 2': ['Task A', 'Task B']}\n"
     ]
    }
   ],
   "source": [
    "resourse_ranking_dict = {}\n",
    "\n",
    "res_names = ['Resource 1', 'Resource 2']\n",
    "\n",
    "for res in res_names:\n",
    "\n",
    "    if df.loc[df['task'] == 'Task A', res].item() < df.loc[df['task'] == 'Task B' , res].item():\n",
    "        res_ranking = ['Task A', 'Task B']\n",
    "    else:\n",
    "        res_ranking = ['Task B', 'Task A']\n",
    "    \n",
    "    resourse_ranking_dict[res] = res_ranking\n",
    "    \n",
    "    print(res, resourse_ranking_dict)"
   ]
  },
  {
   "cell_type": "code",
   "execution_count": 94,
   "id": "5cc83a8a-3fdf-4da1-bbcd-1a1294dd1dd9",
   "metadata": {},
   "outputs": [
    {
     "data": {
      "text/plain": [
       "{'Resource 1': ['Task B', 'Task A'], 'Resource 2': ['Task A', 'Task B']}"
      ]
     },
     "execution_count": 94,
     "metadata": {},
     "output_type": "execute_result"
    }
   ],
   "source": [
    "resourse_ranking_dict"
   ]
  },
  {
   "cell_type": "code",
   "execution_count": 87,
   "id": "6dd4fc3e-83f1-409c-9c01-518d0052fc8b",
   "metadata": {},
   "outputs": [
    {
     "data": {
      "text/plain": [
       "['Resource 1', 'Resource 2']"
      ]
     },
     "execution_count": 87,
     "metadata": {},
     "output_type": "execute_result"
    }
   ],
   "source": [
    "task_ranking_dict[task]"
   ]
  },
  {
   "cell_type": "code",
   "execution_count": 47,
   "id": "d270cedc-c3ef-46b0-ba39-dd75557b8471",
   "metadata": {},
   "outputs": [
    {
     "data": {
      "text/plain": [
       "index               1\n",
       "task           Task B\n",
       "prob_finish       1.0\n",
       "Resource 1        1.4\n",
       "Resource 2       25.0\n",
       "Name: 0, dtype: object"
      ]
     },
     "execution_count": 47,
     "metadata": {},
     "output_type": "execute_result"
    }
   ],
   "source": [
    "new_df = df.sort_values(by=['Resource 1']).reset_index()\n",
    "new_df.loc[0,:]"
   ]
  },
  {
   "cell_type": "code",
   "execution_count": null,
   "id": "ff9bfc4b-0260-482c-81da-4fbfe59b3a90",
   "metadata": {},
   "outputs": [],
   "source": [
    "task_ranking = {}\n",
    "task_ranking['Task A'] = []"
   ]
  },
  {
   "cell_type": "code",
   "execution_count": 65,
   "id": "e763795c-548b-4265-995a-1b087c591437",
   "metadata": {},
   "outputs": [
    {
     "data": {
      "text/html": [
       "<div>\n",
       "<style scoped>\n",
       "    .dataframe tbody tr th:only-of-type {\n",
       "        vertical-align: middle;\n",
       "    }\n",
       "\n",
       "    .dataframe tbody tr th {\n",
       "        vertical-align: top;\n",
       "    }\n",
       "\n",
       "    .dataframe thead th {\n",
       "        text-align: right;\n",
       "    }\n",
       "</style>\n",
       "<table border=\"1\" class=\"dataframe\">\n",
       "  <thead>\n",
       "    <tr style=\"text-align: right;\">\n",
       "      <th></th>\n",
       "      <th>index</th>\n",
       "      <th>task</th>\n",
       "      <th>prob_finish</th>\n",
       "      <th>Resource 1</th>\n",
       "      <th>Resource 2</th>\n",
       "    </tr>\n",
       "  </thead>\n",
       "  <tbody>\n",
       "    <tr>\n",
       "      <th>0</th>\n",
       "      <td>1</td>\n",
       "      <td>Task B</td>\n",
       "      <td>1.0</td>\n",
       "      <td>1.4</td>\n",
       "      <td>25.0</td>\n",
       "    </tr>\n",
       "    <tr>\n",
       "      <th>1</th>\n",
       "      <td>0</td>\n",
       "      <td>Task A</td>\n",
       "      <td>0.0</td>\n",
       "      <td>1.8</td>\n",
       "      <td>1.4</td>\n",
       "    </tr>\n",
       "  </tbody>\n",
       "</table>\n",
       "</div>"
      ],
      "text/plain": [
       "   index    task  prob_finish  Resource 1  Resource 2\n",
       "0      1  Task B          1.0         1.4        25.0\n",
       "1      0  Task A          0.0         1.8         1.4"
      ]
     },
     "execution_count": 65,
     "metadata": {},
     "output_type": "execute_result"
    }
   ],
   "source": [
    "new_df"
   ]
  },
  {
   "cell_type": "code",
   "execution_count": 68,
   "id": "8b9c1b93-a7e4-4336-8c88-d71ea21546d4",
   "metadata": {},
   "outputs": [
    {
     "name": "stdout",
     "output_type": "stream",
     "text": [
      "1.4\n",
      "25.0\n"
     ]
    }
   ],
   "source": [
    "for ind in range(1,3):\n",
    "    print(new_df.loc[0, 'Resource '+str(ind)])"
   ]
  },
  {
   "cell_type": "code",
   "execution_count": 2,
   "id": "a1ee37aa-76d9-457d-8195-7b8df988dd7a",
   "metadata": {
    "tags": []
   },
   "outputs": [],
   "source": [
    "df = pkl.load(open(r'df.pkl', 'rb'))"
   ]
  },
  {
   "cell_type": "code",
   "execution_count": 3,
   "id": "56b1b558-8c39-4731-952a-74b97c97b4c9",
   "metadata": {
    "tags": []
   },
   "outputs": [
    {
     "data": {
      "text/html": [
       "<div>\n",
       "<style scoped>\n",
       "    .dataframe tbody tr th:only-of-type {\n",
       "        vertical-align: middle;\n",
       "    }\n",
       "\n",
       "    .dataframe tbody tr th {\n",
       "        vertical-align: top;\n",
       "    }\n",
       "\n",
       "    .dataframe thead th {\n",
       "        text-align: right;\n",
       "    }\n",
       "</style>\n",
       "<table border=\"1\" class=\"dataframe\">\n",
       "  <thead>\n",
       "    <tr style=\"text-align: right;\">\n",
       "      <th></th>\n",
       "      <th>task</th>\n",
       "      <th>prob_finish</th>\n",
       "      <th>Resource 1</th>\n",
       "      <th>Resource 2</th>\n",
       "      <th>Resource 3</th>\n",
       "      <th>Resource 4</th>\n",
       "      <th>Resource 5</th>\n",
       "      <th>Resource 6</th>\n",
       "      <th>Resource 7</th>\n",
       "      <th>Resource 8</th>\n",
       "      <th>Resource 9</th>\n",
       "      <th>Resource 10</th>\n",
       "    </tr>\n",
       "  </thead>\n",
       "  <tbody>\n",
       "    <tr>\n",
       "      <th>0</th>\n",
       "      <td>Task A</td>\n",
       "      <td>0.0</td>\n",
       "      <td>1.4</td>\n",
       "      <td>1.8</td>\n",
       "      <td>NaN</td>\n",
       "      <td>NaN</td>\n",
       "      <td>NaN</td>\n",
       "      <td>NaN</td>\n",
       "      <td>NaN</td>\n",
       "      <td>NaN</td>\n",
       "      <td>NaN</td>\n",
       "      <td>NaN</td>\n",
       "    </tr>\n",
       "    <tr>\n",
       "      <th>1</th>\n",
       "      <td>Task B</td>\n",
       "      <td>0.0</td>\n",
       "      <td>1.6</td>\n",
       "      <td>3.0</td>\n",
       "      <td>NaN</td>\n",
       "      <td>NaN</td>\n",
       "      <td>NaN</td>\n",
       "      <td>NaN</td>\n",
       "      <td>NaN</td>\n",
       "      <td>NaN</td>\n",
       "      <td>NaN</td>\n",
       "      <td>NaN</td>\n",
       "    </tr>\n",
       "    <tr>\n",
       "      <th>2</th>\n",
       "      <td>Task C</td>\n",
       "      <td>0.0</td>\n",
       "      <td>NaN</td>\n",
       "      <td>NaN</td>\n",
       "      <td>3.0</td>\n",
       "      <td>2.0</td>\n",
       "      <td>NaN</td>\n",
       "      <td>NaN</td>\n",
       "      <td>NaN</td>\n",
       "      <td>NaN</td>\n",
       "      <td>NaN</td>\n",
       "      <td>NaN</td>\n",
       "    </tr>\n",
       "    <tr>\n",
       "      <th>3</th>\n",
       "      <td>Task D</td>\n",
       "      <td>0.0</td>\n",
       "      <td>NaN</td>\n",
       "      <td>NaN</td>\n",
       "      <td>NaN</td>\n",
       "      <td>2.4</td>\n",
       "      <td>NaN</td>\n",
       "      <td>NaN</td>\n",
       "      <td>NaN</td>\n",
       "      <td>NaN</td>\n",
       "      <td>NaN</td>\n",
       "      <td>NaN</td>\n",
       "    </tr>\n",
       "    <tr>\n",
       "      <th>4</th>\n",
       "      <td>Task E</td>\n",
       "      <td>0.0</td>\n",
       "      <td>NaN</td>\n",
       "      <td>NaN</td>\n",
       "      <td>NaN</td>\n",
       "      <td>NaN</td>\n",
       "      <td>1.6</td>\n",
       "      <td>1.4</td>\n",
       "      <td>NaN</td>\n",
       "      <td>NaN</td>\n",
       "      <td>NaN</td>\n",
       "      <td>NaN</td>\n",
       "    </tr>\n",
       "    <tr>\n",
       "      <th>5</th>\n",
       "      <td>Task F</td>\n",
       "      <td>0.0</td>\n",
       "      <td>NaN</td>\n",
       "      <td>NaN</td>\n",
       "      <td>NaN</td>\n",
       "      <td>NaN</td>\n",
       "      <td>1.4</td>\n",
       "      <td>1.6</td>\n",
       "      <td>NaN</td>\n",
       "      <td>NaN</td>\n",
       "      <td>NaN</td>\n",
       "      <td>NaN</td>\n",
       "    </tr>\n",
       "    <tr>\n",
       "      <th>6</th>\n",
       "      <td>Task G</td>\n",
       "      <td>0.0</td>\n",
       "      <td>NaN</td>\n",
       "      <td>NaN</td>\n",
       "      <td>NaN</td>\n",
       "      <td>NaN</td>\n",
       "      <td>NaN</td>\n",
       "      <td>NaN</td>\n",
       "      <td>2.0</td>\n",
       "      <td>1.8</td>\n",
       "      <td>NaN</td>\n",
       "      <td>NaN</td>\n",
       "    </tr>\n",
       "    <tr>\n",
       "      <th>7</th>\n",
       "      <td>Task H</td>\n",
       "      <td>0.0</td>\n",
       "      <td>NaN</td>\n",
       "      <td>NaN</td>\n",
       "      <td>NaN</td>\n",
       "      <td>NaN</td>\n",
       "      <td>NaN</td>\n",
       "      <td>NaN</td>\n",
       "      <td>1.8</td>\n",
       "      <td>2.0</td>\n",
       "      <td>NaN</td>\n",
       "      <td>NaN</td>\n",
       "    </tr>\n",
       "    <tr>\n",
       "      <th>8</th>\n",
       "      <td>Task I</td>\n",
       "      <td>0.0</td>\n",
       "      <td>NaN</td>\n",
       "      <td>NaN</td>\n",
       "      <td>NaN</td>\n",
       "      <td>NaN</td>\n",
       "      <td>NaN</td>\n",
       "      <td>NaN</td>\n",
       "      <td>NaN</td>\n",
       "      <td>NaN</td>\n",
       "      <td>1.6</td>\n",
       "      <td>1.6</td>\n",
       "    </tr>\n",
       "    <tr>\n",
       "      <th>9</th>\n",
       "      <td>Task J</td>\n",
       "      <td>1.0</td>\n",
       "      <td>NaN</td>\n",
       "      <td>NaN</td>\n",
       "      <td>NaN</td>\n",
       "      <td>NaN</td>\n",
       "      <td>NaN</td>\n",
       "      <td>NaN</td>\n",
       "      <td>NaN</td>\n",
       "      <td>NaN</td>\n",
       "      <td>1.8</td>\n",
       "      <td>1.8</td>\n",
       "    </tr>\n",
       "  </tbody>\n",
       "</table>\n",
       "</div>"
      ],
      "text/plain": [
       "     task  prob_finish  Resource 1  Resource 2  Resource 3  Resource 4  \\\n",
       "0  Task A          0.0         1.4         1.8         NaN         NaN   \n",
       "1  Task B          0.0         1.6         3.0         NaN         NaN   \n",
       "2  Task C          0.0         NaN         NaN         3.0         2.0   \n",
       "3  Task D          0.0         NaN         NaN         NaN         2.4   \n",
       "4  Task E          0.0         NaN         NaN         NaN         NaN   \n",
       "5  Task F          0.0         NaN         NaN         NaN         NaN   \n",
       "6  Task G          0.0         NaN         NaN         NaN         NaN   \n",
       "7  Task H          0.0         NaN         NaN         NaN         NaN   \n",
       "8  Task I          0.0         NaN         NaN         NaN         NaN   \n",
       "9  Task J          1.0         NaN         NaN         NaN         NaN   \n",
       "\n",
       "   Resource 5  Resource 6  Resource 7  Resource 8  Resource 9  Resource 10  \n",
       "0         NaN         NaN         NaN         NaN         NaN          NaN  \n",
       "1         NaN         NaN         NaN         NaN         NaN          NaN  \n",
       "2         NaN         NaN         NaN         NaN         NaN          NaN  \n",
       "3         NaN         NaN         NaN         NaN         NaN          NaN  \n",
       "4         1.6         1.4         NaN         NaN         NaN          NaN  \n",
       "5         1.4         1.6         NaN         NaN         NaN          NaN  \n",
       "6         NaN         NaN         2.0         1.8         NaN          NaN  \n",
       "7         NaN         NaN         1.8         2.0         NaN          NaN  \n",
       "8         NaN         NaN         NaN         NaN         1.6          1.6  \n",
       "9         NaN         NaN         NaN         NaN         1.8          1.8  "
      ]
     },
     "execution_count": 3,
     "metadata": {},
     "output_type": "execute_result"
    }
   ],
   "source": [
    "df"
   ]
  },
  {
   "cell_type": "code",
   "execution_count": 4,
   "id": "7d66e784-e861-4a22-9247-890cf8ffc069",
   "metadata": {
    "tags": []
   },
   "outputs": [
    {
     "data": {
      "text/plain": [
       "['Task A',\n",
       " 'Task B',\n",
       " 'Task C',\n",
       " 'Task D',\n",
       " 'Task E',\n",
       " 'Task F',\n",
       " 'Task G',\n",
       " 'Task H',\n",
       " 'Task I',\n",
       " 'Task J']"
      ]
     },
     "execution_count": 4,
     "metadata": {},
     "output_type": "execute_result"
    }
   ],
   "source": [
    "tasks = pkl.load(open('tasks.pkl', 'rb'))\n",
    "tasks"
   ]
  },
  {
   "cell_type": "code",
   "execution_count": null,
   "id": "20476086-ce56-49ad-9766-16f4ca9a9f4b",
   "metadata": {},
   "outputs": [],
   "source": []
  },
  {
   "cell_type": "code",
   "execution_count": null,
   "id": "dcf41926-d90d-4fbc-ae00-0a7c9af6eefc",
   "metadata": {},
   "outputs": [],
   "source": [
    "for task in Tasks_names:\n",
    "\n",
    "    if df.loc[df['task'] == task, 'Resource 1'].item() < df.loc[df['task'] == task, 'Resource 2'].item():\n",
    "        task_ranking = ['Resource 1', 'Resource 2']\n",
    "    else:\n",
    "        task_ranking = ['Resource 2', 'Resource 1']\n",
    "\n",
    "    task_ranking_dict[task] = task_ranking"
   ]
  },
  {
   "cell_type": "code",
   "execution_count": 10,
   "id": "169c5580-5546-405e-98b7-a361e1142a41",
   "metadata": {
    "tags": []
   },
   "outputs": [],
   "source": [
    "aa = np.array(df.loc[df['task'] == tasks[0], :])"
   ]
  },
  {
   "cell_type": "code",
   "execution_count": 11,
   "id": "7e64791a-a260-4d85-90d7-3839bd35550a",
   "metadata": {
    "tags": []
   },
   "outputs": [
    {
     "data": {
      "text/plain": [
       "array([['Task A', 0.0, 1.4, 1.8, nan, nan, nan, nan, nan, nan, nan, nan]],\n",
       "      dtype=object)"
      ]
     },
     "execution_count": 11,
     "metadata": {},
     "output_type": "execute_result"
    }
   ],
   "source": []
  },
  {
   "cell_type": "code",
   "execution_count": 12,
   "id": "4fa435ca-809f-4186-8c04-af5bcc803762",
   "metadata": {
    "tags": []
   },
   "outputs": [
    {
     "data": {
      "text/html": [
       "<div>\n",
       "<style scoped>\n",
       "    .dataframe tbody tr th:only-of-type {\n",
       "        vertical-align: middle;\n",
       "    }\n",
       "\n",
       "    .dataframe tbody tr th {\n",
       "        vertical-align: top;\n",
       "    }\n",
       "\n",
       "    .dataframe thead th {\n",
       "        text-align: right;\n",
       "    }\n",
       "</style>\n",
       "<table border=\"1\" class=\"dataframe\">\n",
       "  <thead>\n",
       "    <tr style=\"text-align: right;\">\n",
       "      <th></th>\n",
       "      <th>task</th>\n",
       "      <th>prob_finish</th>\n",
       "      <th>Resource 1</th>\n",
       "      <th>Resource 2</th>\n",
       "      <th>Resource 3</th>\n",
       "      <th>Resource 4</th>\n",
       "      <th>Resource 5</th>\n",
       "      <th>Resource 6</th>\n",
       "      <th>Resource 7</th>\n",
       "      <th>Resource 8</th>\n",
       "      <th>Resource 9</th>\n",
       "      <th>Resource 10</th>\n",
       "    </tr>\n",
       "  </thead>\n",
       "  <tbody>\n",
       "    <tr>\n",
       "      <th>0</th>\n",
       "      <td>Task A</td>\n",
       "      <td>0.0</td>\n",
       "      <td>1.4</td>\n",
       "      <td>1.8</td>\n",
       "      <td>NaN</td>\n",
       "      <td>NaN</td>\n",
       "      <td>NaN</td>\n",
       "      <td>NaN</td>\n",
       "      <td>NaN</td>\n",
       "      <td>NaN</td>\n",
       "      <td>NaN</td>\n",
       "      <td>NaN</td>\n",
       "    </tr>\n",
       "  </tbody>\n",
       "</table>\n",
       "</div>"
      ],
      "text/plain": [
       "     task  prob_finish  Resource 1  Resource 2  Resource 3  Resource 4  \\\n",
       "0  Task A          0.0         1.4         1.8         NaN         NaN   \n",
       "\n",
       "   Resource 5  Resource 6  Resource 7  Resource 8  Resource 9  Resource 10  \n",
       "0         NaN         NaN         NaN         NaN         NaN          NaN  "
      ]
     },
     "execution_count": 12,
     "metadata": {},
     "output_type": "execute_result"
    }
   ],
   "source": [
    "df.loc[df['task'] == tasks[0], :]"
   ]
  },
  {
   "cell_type": "code",
   "execution_count": 15,
   "id": "ad07a8f0-2cdd-4bb5-90e9-96244fa3255a",
   "metadata": {
    "tags": []
   },
   "outputs": [
    {
     "data": {
      "text/plain": [
       "['Resource 1',\n",
       " 'Resource 2',\n",
       " 'Resource 3',\n",
       " 'Resource 4',\n",
       " 'Resource 5',\n",
       " 'Resource 6',\n",
       " 'Resource 7',\n",
       " 'Resource 8',\n",
       " 'Resource 9',\n",
       " 'Resource 10']"
      ]
     },
     "execution_count": 15,
     "metadata": {},
     "output_type": "execute_result"
    }
   ],
   "source": [
    "\n",
    "res_list"
   ]
  },
  {
   "cell_type": "code",
   "execution_count": 41,
   "id": "84b56d11-1489-44f8-9ae3-c22852746e3f",
   "metadata": {
    "tags": []
   },
   "outputs": [],
   "source": [
    "res_list = [col for col in list(df.columns) if 'Resource' in col]\n",
    "\n",
    "curr_df = pd.DataFrame([])\n",
    "for ind, res in enumerate(res_list):\n",
    "    curr_df.loc[ind, 'Resource'] = res\n",
    "    curr_df.loc[ind, 'time'] = df.loc[df['task'] == tasks[4], res].item()\n",
    "    \n",
    "    \n",
    "curr_df = curr_df.sort_values(by=['time'])\n",
    "curr_df = curr_df.reset_index()\n",
    "task_ranking = []\n",
    "\n",
    "for ind in range(curr_df.shape[0]):\n",
    "    if curr_df.loc[ind, 'time'].item()>0:\n",
    "        task_ranking.append(curr_df.loc[ind, 'Resource'])\n",
    "    # print(curr_df.loc[ind:ind+1, 'time'].isna().item())\n",
    "task_ranking"
   ]
  },
  {
   "cell_type": "code",
   "execution_count": 61,
   "id": "d725ce9f-2fac-4ff4-9826-9539cfd7ebf0",
   "metadata": {
    "tags": []
   },
   "outputs": [
    {
     "name": "stdout",
     "output_type": "stream",
     "text": [
      "Resource 1 ['Task A', 'Task B']\n",
      "Resource 2 ['Task A', 'Task B']\n",
      "Resource 3 ['Task C']\n",
      "Resource 4 ['Task C', 'Task D']\n",
      "Resource 5 ['Task F', 'Task E']\n",
      "Resource 6 ['Task E', 'Task F']\n",
      "Resource 7 ['Task H', 'Task G']\n",
      "Resource 8 ['Task G', 'Task H']\n",
      "Resource 9 ['Task I', 'Task J']\n",
      "Resource 10 ['Task I', 'Task J']\n"
     ]
    }
   ],
   "source": [
    "\n",
    "for res in res_list:\n",
    "    \n",
    "    num_none_nan = np.sum(df.sort_values(by=[res])[res]>0)\n",
    "    print(res, list(df.sort_values(by=[res])['task'][:num_none_nan]))\n",
    "    "
   ]
  },
  {
   "cell_type": "code",
   "execution_count": 60,
   "id": "747be209-41b6-4f9d-b6a5-f8703159189c",
   "metadata": {
    "tags": []
   },
   "outputs": [
    {
     "data": {
      "text/html": [
       "<div>\n",
       "<style scoped>\n",
       "    .dataframe tbody tr th:only-of-type {\n",
       "        vertical-align: middle;\n",
       "    }\n",
       "\n",
       "    .dataframe tbody tr th {\n",
       "        vertical-align: top;\n",
       "    }\n",
       "\n",
       "    .dataframe thead th {\n",
       "        text-align: right;\n",
       "    }\n",
       "</style>\n",
       "<table border=\"1\" class=\"dataframe\">\n",
       "  <thead>\n",
       "    <tr style=\"text-align: right;\">\n",
       "      <th></th>\n",
       "      <th>task</th>\n",
       "      <th>prob_finish</th>\n",
       "      <th>Resource 1</th>\n",
       "      <th>Resource 2</th>\n",
       "      <th>Resource 3</th>\n",
       "      <th>Resource 4</th>\n",
       "      <th>Resource 5</th>\n",
       "      <th>Resource 6</th>\n",
       "      <th>Resource 7</th>\n",
       "      <th>Resource 8</th>\n",
       "      <th>Resource 9</th>\n",
       "      <th>Resource 10</th>\n",
       "    </tr>\n",
       "  </thead>\n",
       "  <tbody>\n",
       "    <tr>\n",
       "      <th>0</th>\n",
       "      <td>Task A</td>\n",
       "      <td>0.0</td>\n",
       "      <td>1.4</td>\n",
       "      <td>1.8</td>\n",
       "      <td>NaN</td>\n",
       "      <td>NaN</td>\n",
       "      <td>NaN</td>\n",
       "      <td>NaN</td>\n",
       "      <td>NaN</td>\n",
       "      <td>NaN</td>\n",
       "      <td>NaN</td>\n",
       "      <td>NaN</td>\n",
       "    </tr>\n",
       "    <tr>\n",
       "      <th>1</th>\n",
       "      <td>Task B</td>\n",
       "      <td>0.0</td>\n",
       "      <td>1.6</td>\n",
       "      <td>3.0</td>\n",
       "      <td>NaN</td>\n",
       "      <td>NaN</td>\n",
       "      <td>NaN</td>\n",
       "      <td>NaN</td>\n",
       "      <td>NaN</td>\n",
       "      <td>NaN</td>\n",
       "      <td>NaN</td>\n",
       "      <td>NaN</td>\n",
       "    </tr>\n",
       "    <tr>\n",
       "      <th>2</th>\n",
       "      <td>Task C</td>\n",
       "      <td>0.0</td>\n",
       "      <td>NaN</td>\n",
       "      <td>NaN</td>\n",
       "      <td>3.0</td>\n",
       "      <td>2.0</td>\n",
       "      <td>NaN</td>\n",
       "      <td>NaN</td>\n",
       "      <td>NaN</td>\n",
       "      <td>NaN</td>\n",
       "      <td>NaN</td>\n",
       "      <td>NaN</td>\n",
       "    </tr>\n",
       "    <tr>\n",
       "      <th>3</th>\n",
       "      <td>Task D</td>\n",
       "      <td>0.0</td>\n",
       "      <td>NaN</td>\n",
       "      <td>NaN</td>\n",
       "      <td>NaN</td>\n",
       "      <td>2.4</td>\n",
       "      <td>NaN</td>\n",
       "      <td>NaN</td>\n",
       "      <td>NaN</td>\n",
       "      <td>NaN</td>\n",
       "      <td>NaN</td>\n",
       "      <td>NaN</td>\n",
       "    </tr>\n",
       "    <tr>\n",
       "      <th>4</th>\n",
       "      <td>Task E</td>\n",
       "      <td>0.0</td>\n",
       "      <td>NaN</td>\n",
       "      <td>NaN</td>\n",
       "      <td>NaN</td>\n",
       "      <td>NaN</td>\n",
       "      <td>1.6</td>\n",
       "      <td>1.4</td>\n",
       "      <td>NaN</td>\n",
       "      <td>NaN</td>\n",
       "      <td>NaN</td>\n",
       "      <td>NaN</td>\n",
       "    </tr>\n",
       "    <tr>\n",
       "      <th>5</th>\n",
       "      <td>Task F</td>\n",
       "      <td>0.0</td>\n",
       "      <td>NaN</td>\n",
       "      <td>NaN</td>\n",
       "      <td>NaN</td>\n",
       "      <td>NaN</td>\n",
       "      <td>1.4</td>\n",
       "      <td>1.6</td>\n",
       "      <td>NaN</td>\n",
       "      <td>NaN</td>\n",
       "      <td>NaN</td>\n",
       "      <td>NaN</td>\n",
       "    </tr>\n",
       "    <tr>\n",
       "      <th>6</th>\n",
       "      <td>Task G</td>\n",
       "      <td>0.0</td>\n",
       "      <td>NaN</td>\n",
       "      <td>NaN</td>\n",
       "      <td>NaN</td>\n",
       "      <td>NaN</td>\n",
       "      <td>NaN</td>\n",
       "      <td>NaN</td>\n",
       "      <td>2.0</td>\n",
       "      <td>1.8</td>\n",
       "      <td>NaN</td>\n",
       "      <td>NaN</td>\n",
       "    </tr>\n",
       "    <tr>\n",
       "      <th>7</th>\n",
       "      <td>Task H</td>\n",
       "      <td>0.0</td>\n",
       "      <td>NaN</td>\n",
       "      <td>NaN</td>\n",
       "      <td>NaN</td>\n",
       "      <td>NaN</td>\n",
       "      <td>NaN</td>\n",
       "      <td>NaN</td>\n",
       "      <td>1.8</td>\n",
       "      <td>2.0</td>\n",
       "      <td>NaN</td>\n",
       "      <td>NaN</td>\n",
       "    </tr>\n",
       "    <tr>\n",
       "      <th>8</th>\n",
       "      <td>Task I</td>\n",
       "      <td>0.0</td>\n",
       "      <td>NaN</td>\n",
       "      <td>NaN</td>\n",
       "      <td>NaN</td>\n",
       "      <td>NaN</td>\n",
       "      <td>NaN</td>\n",
       "      <td>NaN</td>\n",
       "      <td>NaN</td>\n",
       "      <td>NaN</td>\n",
       "      <td>1.6</td>\n",
       "      <td>1.6</td>\n",
       "    </tr>\n",
       "    <tr>\n",
       "      <th>9</th>\n",
       "      <td>Task J</td>\n",
       "      <td>1.0</td>\n",
       "      <td>NaN</td>\n",
       "      <td>NaN</td>\n",
       "      <td>NaN</td>\n",
       "      <td>NaN</td>\n",
       "      <td>NaN</td>\n",
       "      <td>NaN</td>\n",
       "      <td>NaN</td>\n",
       "      <td>NaN</td>\n",
       "      <td>1.8</td>\n",
       "      <td>1.8</td>\n",
       "    </tr>\n",
       "  </tbody>\n",
       "</table>\n",
       "</div>"
      ],
      "text/plain": [
       "     task  prob_finish  Resource 1  Resource 2  Resource 3  Resource 4  \\\n",
       "0  Task A          0.0         1.4         1.8         NaN         NaN   \n",
       "1  Task B          0.0         1.6         3.0         NaN         NaN   \n",
       "2  Task C          0.0         NaN         NaN         3.0         2.0   \n",
       "3  Task D          0.0         NaN         NaN         NaN         2.4   \n",
       "4  Task E          0.0         NaN         NaN         NaN         NaN   \n",
       "5  Task F          0.0         NaN         NaN         NaN         NaN   \n",
       "6  Task G          0.0         NaN         NaN         NaN         NaN   \n",
       "7  Task H          0.0         NaN         NaN         NaN         NaN   \n",
       "8  Task I          0.0         NaN         NaN         NaN         NaN   \n",
       "9  Task J          1.0         NaN         NaN         NaN         NaN   \n",
       "\n",
       "   Resource 5  Resource 6  Resource 7  Resource 8  Resource 9  Resource 10  \n",
       "0         NaN         NaN         NaN         NaN         NaN          NaN  \n",
       "1         NaN         NaN         NaN         NaN         NaN          NaN  \n",
       "2         NaN         NaN         NaN         NaN         NaN          NaN  \n",
       "3         NaN         NaN         NaN         NaN         NaN          NaN  \n",
       "4         1.6         1.4         NaN         NaN         NaN          NaN  \n",
       "5         1.4         1.6         NaN         NaN         NaN          NaN  \n",
       "6         NaN         NaN         2.0         1.8         NaN          NaN  \n",
       "7         NaN         NaN         1.8         2.0         NaN          NaN  \n",
       "8         NaN         NaN         NaN         NaN         1.6          1.6  \n",
       "9         NaN         NaN         NaN         NaN         1.8          1.8  "
      ]
     },
     "execution_count": 60,
     "metadata": {},
     "output_type": "execute_result"
    }
   ],
   "source": [
    "df"
   ]
  },
  {
   "cell_type": "code",
   "execution_count": 44,
   "id": "b98b6e38-cddc-42be-939d-48de7685854a",
   "metadata": {
    "tags": []
   },
   "outputs": [
    {
     "data": {
      "text/plain": [
       "False"
      ]
     },
     "execution_count": 44,
     "metadata": {},
     "output_type": "execute_result"
    }
   ],
   "source": [
    "curr_df.loc[ind, 'time'].item()>0"
   ]
  },
  {
   "cell_type": "code",
   "execution_count": 57,
   "id": "d1dd039b-a595-4c5a-8062-d9b8d4701685",
   "metadata": {
    "tags": []
   },
   "outputs": [
    {
     "data": {
      "text/plain": [
       "['Task F', 'Task E']"
      ]
     },
     "execution_count": 57,
     "metadata": {},
     "output_type": "execute_result"
    }
   ],
   "source": [
    "list(df.sort_values(by=['Resource 5'])['task'][:2])"
   ]
  },
  {
   "cell_type": "code",
   "execution_count": null,
   "id": "8f868f89-8b60-4b8b-bb8d-83b91f3200d8",
   "metadata": {},
   "outputs": [],
   "source": []
  }
 ],
 "metadata": {
  "kernelspec": {
   "display_name": "queueing",
   "language": "python",
   "name": "queueing"
  },
  "language_info": {
   "codemirror_mode": {
    "name": "ipython",
    "version": 3
   },
   "file_extension": ".py",
   "mimetype": "text/x-python",
   "name": "python",
   "nbconvert_exporter": "python",
   "pygments_lexer": "ipython3",
   "version": "3.9.16"
  }
 },
 "nbformat": 4,
 "nbformat_minor": 5
}
