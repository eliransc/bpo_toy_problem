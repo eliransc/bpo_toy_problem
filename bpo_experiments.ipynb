{
 "cells": [
  {
   "cell_type": "code",
   "execution_count": 60,
   "id": "3e0c296a-8cf0-4ff4-b3fb-6ebdbb8108f3",
   "metadata": {},
   "outputs": [],
   "source": [
    "import numpy as np\n",
    "import pandas as pd\n",
    "import pickle as pkl\n",
    "import os\n",
    "import sys\n",
    "sys.path.append(r'C:\\Users\\user\\workspace\\scikit-optimize')\n",
    "sys.path.append(r'C:\\Users\\user\\workspace\\scikit-optimize\\skopt')"
   ]
  },
  {
   "cell_type": "code",
   "execution_count": 95,
   "id": "582b9ee8-4a17-4071-bc50-637d7e362f3f",
   "metadata": {},
   "outputs": [],
   "source": [
    "simulator = pkl.load(open('simulator.pkl', 'rb'))\n",
    "res = pkl.load(open('res_low.pkl', 'rb'))"
   ]
  },
  {
   "cell_type": "code",
   "execution_count": 96,
   "id": "5c834fe2-60b3-4551-bc58-b0430288d5e1",
   "metadata": {},
   "outputs": [
    {
     "data": {
      "text/plain": [
       "array([5.36608021, 5.06341101, 4.93536822, 4.8129313 , 4.89974222,\n",
       "       4.65571547, 5.55055807, 4.9992943 , 4.72828531, 5.3485408 ,\n",
       "       4.8611273 , 5.26505504, 4.92262688, 5.14177491, 5.32993119])"
      ]
     },
     "execution_count": 96,
     "metadata": {},
     "output_type": "execute_result"
    }
   ],
   "source": [
    "res.func_vals"
   ]
  },
  {
   "cell_type": "code",
   "execution_count": 4,
   "id": "f15ed1f4-00bf-4968-a3db-f2280b789d4e",
   "metadata": {},
   "outputs": [],
   "source": [
    "tasks = [key for key in simulator.resource_pools.keys()]"
   ]
  },
  {
   "cell_type": "code",
   "execution_count": 8,
   "id": "5edf8d11-f3f6-4fb5-9a20-a50242524970",
   "metadata": {},
   "outputs": [
    {
     "data": {
      "text/plain": [
       "'Task A'"
      ]
     },
     "execution_count": 8,
     "metadata": {},
     "output_type": "execute_result"
    }
   ],
   "source": [
    "tasks[0]"
   ]
  },
  {
   "cell_type": "code",
   "execution_count": 16,
   "id": "4e72ac07-3fe5-42b8-b70b-18842049fec4",
   "metadata": {},
   "outputs": [
    {
     "data": {
      "text/plain": [
       "1.4"
      ]
     },
     "execution_count": 16,
     "metadata": {},
     "output_type": "execute_result"
    }
   ],
   "source": [
    "simulator.resource_pools[tasks[0]][key][0]"
   ]
  },
  {
   "cell_type": "code",
   "execution_count": 13,
   "id": "843014db-92ab-4219-8802-3a2cfbc11308",
   "metadata": {},
   "outputs": [
    {
     "name": "stdout",
     "output_type": "stream",
     "text": [
      "Resource 1\n",
      "Resource 2\n"
     ]
    }
   ],
   "source": [
    "for key in simulator.resource_pools[tasks[0]].keys():\n",
    "    print(key)"
   ]
  },
  {
   "cell_type": "code",
   "execution_count": 14,
   "id": "ac5e9d55-2c9a-4161-9f7f-ba76d1bf6c04",
   "metadata": {},
   "outputs": [
    {
     "data": {
      "text/plain": [
       "'Resource 2'"
      ]
     },
     "execution_count": 14,
     "metadata": {},
     "output_type": "execute_result"
    }
   ],
   "source": [
    "key"
   ]
  },
  {
   "cell_type": "code",
   "execution_count": 27,
   "id": "3917e9cd-7d70-4b84-9b9b-00a016654d2f",
   "metadata": {},
   "outputs": [],
   "source": [
    "df = pd.DataFrame([])\n",
    "\n",
    "for ind in range(len(tasks)):\n",
    "    df.loc[ind, 'task'] = tasks[ind]\n",
    "    df.loc[ind, 'prob_finish'] = simulator.transitions[tasks[ind]][-1]\n",
    "    for key in simulator.resource_pools[tasks[ind]].keys():\n",
    "        df.loc[ind, key] = simulator.resource_pools[tasks[ind]][key][0]"
   ]
  },
  {
   "cell_type": "code",
   "execution_count": 21,
   "id": "04c59d0e-ead0-42a8-872a-06411a09f9fd",
   "metadata": {},
   "outputs": [
    {
     "data": {
      "text/plain": [
       "1.4"
      ]
     },
     "execution_count": 21,
     "metadata": {},
     "output_type": "execute_result"
    }
   ],
   "source": [
    "df.loc[df['task'] == 'Task A',key].item()"
   ]
  },
  {
   "cell_type": "code",
   "execution_count": 28,
   "id": "55823509-9c6b-456f-8301-9e4a6b952909",
   "metadata": {},
   "outputs": [
    {
     "data": {
      "text/html": [
       "<div>\n",
       "<style scoped>\n",
       "    .dataframe tbody tr th:only-of-type {\n",
       "        vertical-align: middle;\n",
       "    }\n",
       "\n",
       "    .dataframe tbody tr th {\n",
       "        vertical-align: top;\n",
       "    }\n",
       "\n",
       "    .dataframe thead th {\n",
       "        text-align: right;\n",
       "    }\n",
       "</style>\n",
       "<table border=\"1\" class=\"dataframe\">\n",
       "  <thead>\n",
       "    <tr style=\"text-align: right;\">\n",
       "      <th></th>\n",
       "      <th>task</th>\n",
       "      <th>prob_finish</th>\n",
       "      <th>Resource 1</th>\n",
       "      <th>Resource 2</th>\n",
       "    </tr>\n",
       "  </thead>\n",
       "  <tbody>\n",
       "    <tr>\n",
       "      <th>0</th>\n",
       "      <td>Task A</td>\n",
       "      <td>0.0</td>\n",
       "      <td>1.8</td>\n",
       "      <td>1.4</td>\n",
       "    </tr>\n",
       "    <tr>\n",
       "      <th>1</th>\n",
       "      <td>Task B</td>\n",
       "      <td>1.0</td>\n",
       "      <td>1.4</td>\n",
       "      <td>25.0</td>\n",
       "    </tr>\n",
       "  </tbody>\n",
       "</table>\n",
       "</div>"
      ],
      "text/plain": [
       "     task  prob_finish  Resource 1  Resource 2\n",
       "0  Task A          0.0         1.8         1.4\n",
       "1  Task B          1.0         1.4        25.0"
      ]
     },
     "execution_count": 28,
     "metadata": {},
     "output_type": "execute_result"
    }
   ],
   "source": [
    "df"
   ]
  },
  {
   "cell_type": "code",
   "execution_count": 24,
   "id": "5f4b7434-0f0f-4c66-92ba-5e6359b5c9b3",
   "metadata": {},
   "outputs": [
    {
     "data": {
      "text/plain": [
       "[0, 1, 0]"
      ]
     },
     "execution_count": 24,
     "metadata": {},
     "output_type": "execute_result"
    }
   ],
   "source": [
    "simulator.transitions['Task A']"
   ]
  },
  {
   "cell_type": "code",
   "execution_count": 26,
   "id": "2878bb70-1ef4-45ca-b6bc-978783d62340",
   "metadata": {},
   "outputs": [
    {
     "data": {
      "text/plain": [
       "1"
      ]
     },
     "execution_count": 26,
     "metadata": {},
     "output_type": "execute_result"
    }
   ],
   "source": [
    "simulator.transitions['Task B'][-1]"
   ]
  },
  {
   "cell_type": "code",
   "execution_count": 37,
   "id": "e92f533f-ce07-421f-a0cd-a50625d4d2df",
   "metadata": {},
   "outputs": [
    {
     "data": {
      "text/plain": [
       "1.4"
      ]
     },
     "execution_count": 37,
     "metadata": {},
     "output_type": "execute_result"
    }
   ],
   "source": [
    "a1 = 1\n",
    "a2 = 3\n",
    "\n",
    "curr_task =  'Task A'\n",
    "curr_res = key\n",
    "\n",
    "mean_val = df.loc[df['task'] == curr_task, curr_res].item()\n",
    "prob_fin = df.loc[df['task'] == curr_task, 'prob_finish'].item()\n",
    "\n",
    "a1*mean_val - a2*prob_fin"
   ]
  },
  {
   "cell_type": "code",
   "execution_count": 38,
   "id": "2bb78afb-ca10-4b66-94e4-fd39c9ee63bb",
   "metadata": {},
   "outputs": [],
   "source": [
    "available_tasks = pkl.load(open('available_task.pkl', 'rb'))"
   ]
  },
  {
   "cell_type": "code",
   "execution_count": 48,
   "id": "f43062a1-b0b1-4329-a543-685ef15d3761",
   "metadata": {},
   "outputs": [
    {
     "data": {
      "text/plain": [
       "<simulator.Task at 0x1b3673b1d48>"
      ]
     },
     "execution_count": 48,
     "metadata": {},
     "output_type": "execute_result"
    }
   ],
   "source": [
    "available_tasks[0]"
   ]
  },
  {
   "cell_type": "code",
   "execution_count": 49,
   "id": "698573ad-308c-4eae-a564-9d599864b334",
   "metadata": {},
   "outputs": [],
   "source": [
    "dff = pd.DataFrame([])\n",
    "\n",
    "dff.loc[0,'task'] = available_tasks[0] "
   ]
  },
  {
   "cell_type": "code",
   "execution_count": 50,
   "id": "33fdbfde-6961-4db0-97b1-5bd419217887",
   "metadata": {},
   "outputs": [
    {
     "data": {
      "text/html": [
       "<div>\n",
       "<style scoped>\n",
       "    .dataframe tbody tr th:only-of-type {\n",
       "        vertical-align: middle;\n",
       "    }\n",
       "\n",
       "    .dataframe tbody tr th {\n",
       "        vertical-align: top;\n",
       "    }\n",
       "\n",
       "    .dataframe thead th {\n",
       "        text-align: right;\n",
       "    }\n",
       "</style>\n",
       "<table border=\"1\" class=\"dataframe\">\n",
       "  <thead>\n",
       "    <tr style=\"text-align: right;\">\n",
       "      <th></th>\n",
       "      <th>task</th>\n",
       "    </tr>\n",
       "  </thead>\n",
       "  <tbody>\n",
       "    <tr>\n",
       "      <th>0</th>\n",
       "      <td>&lt;simulator.Task object at 0x000001B3673B1D48&gt;</td>\n",
       "    </tr>\n",
       "  </tbody>\n",
       "</table>\n",
       "</div>"
      ],
      "text/plain": [
       "                                            task\n",
       "0  <simulator.Task object at 0x000001B3673B1D48>"
      ]
     },
     "execution_count": 50,
     "metadata": {},
     "output_type": "execute_result"
    }
   ],
   "source": [
    "dff"
   ]
  },
  {
   "cell_type": "code",
   "execution_count": 41,
   "id": "13fb50e5-125e-4256-a02a-ac61ef8314b8",
   "metadata": {},
   "outputs": [
    {
     "name": "stdout",
     "output_type": "stream",
     "text": [
      "Task A\n",
      "Task A\n",
      "Task B\n"
     ]
    }
   ],
   "source": [
    "queue_len = {}\n",
    "keys_lens = [key for key in queue_len]\n",
    "for ind in range(len(available_tasks)):\n",
    "    print(available_tasks[ind].task_type)\n",
    "    if available_tasks[ind].task_type in keys_lens:         \n",
    "        queue_len[available_tasks[ind].task_type] += 1\n",
    "    else:\n",
    "        queue_len[available_tasks[ind].task_type] = 1\n",
    "        keys_lens = [key for key in queue_len]"
   ]
  },
  {
   "cell_type": "code",
   "execution_count": 40,
   "id": "f6915b6f-53e0-48bf-8e2b-ddbd25b4c045",
   "metadata": {},
   "outputs": [
    {
     "data": {
      "text/plain": [
       "[]"
      ]
     },
     "execution_count": 40,
     "metadata": {},
     "output_type": "execute_result"
    }
   ],
   "source": [
    "queue_len = {}\n",
    "keys_lens = [key for key in queue_len]\n",
    "keys_lens"
   ]
  },
  {
   "cell_type": "code",
   "execution_count": 43,
   "id": "ed87ba5e-d447-4462-92d2-3dbb26038b10",
   "metadata": {},
   "outputs": [
    {
     "data": {
      "text/plain": [
       "2"
      ]
     },
     "execution_count": 43,
     "metadata": {},
     "output_type": "execute_result"
    }
   ],
   "source": [
    "queue_len['Task A']"
   ]
  },
  {
   "cell_type": "code",
   "execution_count": 73,
   "id": "8cb5d5b4-a6ea-48d9-89eb-1d771d95a408",
   "metadata": {},
   "outputs": [
    {
     "data": {
      "text/html": [
       "<div>\n",
       "<style scoped>\n",
       "    .dataframe tbody tr th:only-of-type {\n",
       "        vertical-align: middle;\n",
       "    }\n",
       "\n",
       "    .dataframe tbody tr th {\n",
       "        vertical-align: top;\n",
       "    }\n",
       "\n",
       "    .dataframe thead th {\n",
       "        text-align: right;\n",
       "    }\n",
       "</style>\n",
       "<table border=\"1\" class=\"dataframe\">\n",
       "  <thead>\n",
       "    <tr style=\"text-align: right;\">\n",
       "      <th></th>\n",
       "      <th>Resource 1</th>\n",
       "      <th>Resource 2</th>\n",
       "    </tr>\n",
       "  </thead>\n",
       "  <tbody>\n",
       "    <tr>\n",
       "      <th>1</th>\n",
       "      <td>1.4</td>\n",
       "      <td>25.0</td>\n",
       "    </tr>\n",
       "  </tbody>\n",
       "</table>\n",
       "</div>"
      ],
      "text/plain": [
       "   Resource 1  Resource 2\n",
       "1         1.4        25.0"
      ]
     },
     "execution_count": 73,
     "metadata": {},
     "output_type": "execute_result"
    }
   ],
   "source": [
    "df.loc[df['task'] == 'Task B', ['Resource 1', 'Resource 2']]"
   ]
  },
  {
   "cell_type": "code",
   "execution_count": 77,
   "id": "25c3e74f-679b-4df7-9a87-f606fa4f3680",
   "metadata": {},
   "outputs": [
    {
     "data": {
      "text/html": [
       "<div>\n",
       "<style scoped>\n",
       "    .dataframe tbody tr th:only-of-type {\n",
       "        vertical-align: middle;\n",
       "    }\n",
       "\n",
       "    .dataframe tbody tr th {\n",
       "        vertical-align: top;\n",
       "    }\n",
       "\n",
       "    .dataframe thead th {\n",
       "        text-align: right;\n",
       "    }\n",
       "</style>\n",
       "<table border=\"1\" class=\"dataframe\">\n",
       "  <thead>\n",
       "    <tr style=\"text-align: right;\">\n",
       "      <th></th>\n",
       "      <th>task</th>\n",
       "      <th>prob_finish</th>\n",
       "      <th>Resource 1</th>\n",
       "      <th>Resource 2</th>\n",
       "    </tr>\n",
       "  </thead>\n",
       "  <tbody>\n",
       "    <tr>\n",
       "      <th>0</th>\n",
       "      <td>Task A</td>\n",
       "      <td>0.0</td>\n",
       "      <td>1.8</td>\n",
       "      <td>1.4</td>\n",
       "    </tr>\n",
       "    <tr>\n",
       "      <th>1</th>\n",
       "      <td>Task B</td>\n",
       "      <td>1.0</td>\n",
       "      <td>1.4</td>\n",
       "      <td>25.0</td>\n",
       "    </tr>\n",
       "  </tbody>\n",
       "</table>\n",
       "</div>"
      ],
      "text/plain": [
       "     task  prob_finish  Resource 1  Resource 2\n",
       "0  Task A          0.0         1.8         1.4\n",
       "1  Task B          1.0         1.4        25.0"
      ]
     },
     "execution_count": 77,
     "metadata": {},
     "output_type": "execute_result"
    }
   ],
   "source": [
    "df"
   ]
  },
  {
   "cell_type": "code",
   "execution_count": 75,
   "id": "2d412cc8-0469-4297-a86c-da65ea39c8e5",
   "metadata": {},
   "outputs": [
    {
     "data": {
      "text/plain": [
       "1.8"
      ]
     },
     "execution_count": 75,
     "metadata": {},
     "output_type": "execute_result"
    }
   ],
   "source": [
    "df.loc[df['task'] == task, 'Resource 1'].item()"
   ]
  },
  {
   "cell_type": "code",
   "execution_count": 83,
   "id": "1fd658eb-4db7-4636-bad8-d751253beb4c",
   "metadata": {},
   "outputs": [
    {
     "data": {
      "text/plain": [
       "'Task A'"
      ]
     },
     "execution_count": 83,
     "metadata": {},
     "output_type": "execute_result"
    }
   ],
   "source": [
    "task"
   ]
  },
  {
   "cell_type": "code",
   "execution_count": 84,
   "id": "6fb1e0fd-d7eb-4280-86b1-a3e582c3e2e8",
   "metadata": {},
   "outputs": [],
   "source": [
    "task_ranking = {}\n",
    "task_ranking[task] = 1 "
   ]
  },
  {
   "cell_type": "code",
   "execution_count": 81,
   "id": "a6b715b4-06d0-41ce-9718-120ba5b3a57e",
   "metadata": {},
   "outputs": [
    {
     "data": {
      "text/plain": [
       "(['Resource 2', 'Resource 1'], 'Task A')"
      ]
     },
     "execution_count": 81,
     "metadata": {},
     "output_type": "execute_result"
    }
   ],
   "source": [
    "task_ranking, task"
   ]
  },
  {
   "cell_type": "code",
   "execution_count": 85,
   "id": "7fed592c-d7e0-4ec4-a634-cad8bdf2f4af",
   "metadata": {},
   "outputs": [
    {
     "name": "stdout",
     "output_type": "stream",
     "text": [
      "Task A ['Resource 2', 'Resource 1']\n",
      "Task B ['Resource 1', 'Resource 2']\n"
     ]
    }
   ],
   "source": [
    "task_ranking_dict = {}\n",
    "\n",
    "Tasks_names = ['Task A', 'Task B']\n",
    "\n",
    "for task in Tasks_names:\n",
    "\n",
    "    if df.loc[df['task'] == task, 'Resource 1'].item() < df.loc[df['task'] == task, 'Resource 2'].item():\n",
    "        task_ranking = ['Resource 1', 'Resource 2']\n",
    "    else:\n",
    "        task_ranking = ['Resource 2', 'Resource 1']\n",
    "    \n",
    "    task_ranking_dict[task] = task_ranking\n",
    "    \n",
    "    print(task, task_ranking)\n",
    "\n",
    "resourse_ranking_dict = {}\n",
    "\n",
    "res_names = ['Resource 1', 'Resource 2']\n",
    "\n",
    "for res in res_names:\n",
    "\n",
    "    if df.loc[df['task'] == 'Task A', res].item() < df.loc[df['task'] == 'Task B' , res].item():\n",
    "        res_ranking = ['Task A', 'Task B']\n",
    "    else:\n",
    "        res_ranking = ['Task B', 'Task A']\n",
    "    \n",
    "    resourse_ranking_dict[res] = res_ranking"
   ]
  },
  {
   "cell_type": "code",
   "execution_count": 100,
   "id": "d7e24b23-d656-420b-a7e6-0b4016fa006a",
   "metadata": {},
   "outputs": [
    {
     "data": {
      "text/plain": [
       "'Task B'"
      ]
     },
     "execution_count": 100,
     "metadata": {},
     "output_type": "execute_result"
    }
   ],
   "source": [
    "resourse_ranking_dict['Resource 1'][0]"
   ]
  },
  {
   "cell_type": "code",
   "execution_count": 109,
   "id": "5d48555c-c9e4-4f62-8a72-85ede91912e4",
   "metadata": {},
   "outputs": [
    {
     "data": {
      "text/plain": [
       "(dict_keys(['Resource 1', 'Resource 2']), 'Task B')"
      ]
     },
     "execution_count": 109,
     "metadata": {},
     "output_type": "execute_result"
    }
   ],
   "source": [
    "resourse_ranking_dict.keys(), resourse_ranking_dict['Resource 1'][0]"
   ]
  },
  {
   "cell_type": "code",
   "execution_count": 103,
   "id": "16edb393-565f-45d4-b224-25c2417e0cf5",
   "metadata": {},
   "outputs": [],
   "source": [
    "resource_ranking_dict_score = {}\n",
    "\n",
    "for key in resourse_ranking_dict.keys():\n",
    "    resource_ranking_dict_score[(key, resourse_ranking_dict['Resource 1'][0])] = 1\n",
    "    resource_ranking_dict_score[(key, resourse_ranking_dict['Resource 1'][1])] = 2\n",
    "\n",
    "task_ranking_dict_score = {}\n",
    "\n",
    "for key in resourse_ranking_dict.keys():\n",
    "    task_ranking_dict_score[(key, task_ranking_dict['Task A'][0])] = 1\n",
    "    task_ranking_dict_score[(key, task_ranking_dict['Task B'][1])] = 2"
   ]
  },
  {
   "cell_type": "code",
   "execution_count": 104,
   "id": "ef13d084-fdd2-425f-90c5-7b50bd479a34",
   "metadata": {},
   "outputs": [
    {
     "data": {
      "text/plain": [
       "{('Resource 1', 'Task B'): 1,\n",
       " ('Resource 1', 'Task A'): 2,\n",
       " ('Resource 2', 'Task B'): 1,\n",
       " ('Resource 2', 'Task A'): 2}"
      ]
     },
     "execution_count": 104,
     "metadata": {},
     "output_type": "execute_result"
    }
   ],
   "source": [
    "resource_ranking_dict_score"
   ]
  },
  {
   "cell_type": "code",
   "execution_count": 105,
   "id": "0aeda957-d335-42c0-9477-ddc3a3bbad72",
   "metadata": {},
   "outputs": [],
   "source": [
    "task_ranking_dict_score = {}\n",
    "\n",
    "for key in resourse_ranking_dict.keys():\n",
    "    task_ranking_dict_score[(key, task_ranking_dict['Task A'][0])] = 1\n",
    "    task_ranking_dict_score[(key, task_ranking_dict['Task B'][1])] = 2"
   ]
  },
  {
   "cell_type": "code",
   "execution_count": 93,
   "id": "a7fd7413-8d06-418d-8e9c-7fc9c9327928",
   "metadata": {},
   "outputs": [
    {
     "name": "stdout",
     "output_type": "stream",
     "text": [
      "Resource 1 {'Resource 1': ['Task B', 'Task A']}\n",
      "Resource 2 {'Resource 1': ['Task B', 'Task A'], 'Resource 2': ['Task A', 'Task B']}\n"
     ]
    }
   ],
   "source": [
    "resourse_ranking_dict = {}\n",
    "\n",
    "res_names = ['Resource 1', 'Resource 2']\n",
    "\n",
    "for res in res_names:\n",
    "\n",
    "    if df.loc[df['task'] == 'Task A', res].item() < df.loc[df['task'] == 'Task B' , res].item():\n",
    "        res_ranking = ['Task A', 'Task B']\n",
    "    else:\n",
    "        res_ranking = ['Task B', 'Task A']\n",
    "    \n",
    "    resourse_ranking_dict[res] = res_ranking\n",
    "    \n",
    "    print(res, resourse_ranking_dict)"
   ]
  },
  {
   "cell_type": "code",
   "execution_count": 94,
   "id": "5cc83a8a-3fdf-4da1-bbcd-1a1294dd1dd9",
   "metadata": {},
   "outputs": [
    {
     "data": {
      "text/plain": [
       "{'Resource 1': ['Task B', 'Task A'], 'Resource 2': ['Task A', 'Task B']}"
      ]
     },
     "execution_count": 94,
     "metadata": {},
     "output_type": "execute_result"
    }
   ],
   "source": [
    "resourse_ranking_dict"
   ]
  },
  {
   "cell_type": "code",
   "execution_count": 87,
   "id": "6dd4fc3e-83f1-409c-9c01-518d0052fc8b",
   "metadata": {},
   "outputs": [
    {
     "data": {
      "text/plain": [
       "['Resource 1', 'Resource 2']"
      ]
     },
     "execution_count": 87,
     "metadata": {},
     "output_type": "execute_result"
    }
   ],
   "source": [
    "task_ranking_dict[task]"
   ]
  },
  {
   "cell_type": "code",
   "execution_count": 47,
   "id": "d270cedc-c3ef-46b0-ba39-dd75557b8471",
   "metadata": {},
   "outputs": [
    {
     "data": {
      "text/plain": [
       "index               1\n",
       "task           Task B\n",
       "prob_finish       1.0\n",
       "Resource 1        1.4\n",
       "Resource 2       25.0\n",
       "Name: 0, dtype: object"
      ]
     },
     "execution_count": 47,
     "metadata": {},
     "output_type": "execute_result"
    }
   ],
   "source": [
    "new_df = df.sort_values(by=['Resource 1']).reset_index()\n",
    "new_df.loc[0,:]"
   ]
  },
  {
   "cell_type": "code",
   "execution_count": null,
   "id": "ff9bfc4b-0260-482c-81da-4fbfe59b3a90",
   "metadata": {},
   "outputs": [],
   "source": [
    "task_ranking = {}\n",
    "task_ranking['Task A'] = []"
   ]
  },
  {
   "cell_type": "code",
   "execution_count": 65,
   "id": "e763795c-548b-4265-995a-1b087c591437",
   "metadata": {},
   "outputs": [
    {
     "data": {
      "text/html": [
       "<div>\n",
       "<style scoped>\n",
       "    .dataframe tbody tr th:only-of-type {\n",
       "        vertical-align: middle;\n",
       "    }\n",
       "\n",
       "    .dataframe tbody tr th {\n",
       "        vertical-align: top;\n",
       "    }\n",
       "\n",
       "    .dataframe thead th {\n",
       "        text-align: right;\n",
       "    }\n",
       "</style>\n",
       "<table border=\"1\" class=\"dataframe\">\n",
       "  <thead>\n",
       "    <tr style=\"text-align: right;\">\n",
       "      <th></th>\n",
       "      <th>index</th>\n",
       "      <th>task</th>\n",
       "      <th>prob_finish</th>\n",
       "      <th>Resource 1</th>\n",
       "      <th>Resource 2</th>\n",
       "    </tr>\n",
       "  </thead>\n",
       "  <tbody>\n",
       "    <tr>\n",
       "      <th>0</th>\n",
       "      <td>1</td>\n",
       "      <td>Task B</td>\n",
       "      <td>1.0</td>\n",
       "      <td>1.4</td>\n",
       "      <td>25.0</td>\n",
       "    </tr>\n",
       "    <tr>\n",
       "      <th>1</th>\n",
       "      <td>0</td>\n",
       "      <td>Task A</td>\n",
       "      <td>0.0</td>\n",
       "      <td>1.8</td>\n",
       "      <td>1.4</td>\n",
       "    </tr>\n",
       "  </tbody>\n",
       "</table>\n",
       "</div>"
      ],
      "text/plain": [
       "   index    task  prob_finish  Resource 1  Resource 2\n",
       "0      1  Task B          1.0         1.4        25.0\n",
       "1      0  Task A          0.0         1.8         1.4"
      ]
     },
     "execution_count": 65,
     "metadata": {},
     "output_type": "execute_result"
    }
   ],
   "source": [
    "new_df"
   ]
  },
  {
   "cell_type": "code",
   "execution_count": 68,
   "id": "8b9c1b93-a7e4-4336-8c88-d71ea21546d4",
   "metadata": {},
   "outputs": [
    {
     "name": "stdout",
     "output_type": "stream",
     "text": [
      "1.4\n",
      "25.0\n"
     ]
    }
   ],
   "source": [
    "for ind in range(1,3):\n",
    "    print(new_df.loc[0, 'Resource '+str(ind)])"
   ]
  },
  {
   "cell_type": "code",
   "execution_count": null,
   "id": "a1ee37aa-76d9-457d-8195-7b8df988dd7a",
   "metadata": {},
   "outputs": [],
   "source": []
  }
 ],
 "metadata": {
  "kernelspec": {
   "display_name": "queues",
   "language": "python",
   "name": "queues"
  },
  "language_info": {
   "codemirror_mode": {
    "name": "ipython",
    "version": 3
   },
   "file_extension": ".py",
   "mimetype": "text/x-python",
   "name": "python",
   "nbconvert_exporter": "python",
   "pygments_lexer": "ipython3",
   "version": "3.7.9"
  }
 },
 "nbformat": 4,
 "nbformat_minor": 5
}
