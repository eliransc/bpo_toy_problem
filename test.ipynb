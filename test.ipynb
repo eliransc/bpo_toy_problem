{
 "cells": [
  {
   "cell_type": "code",
   "execution_count": 3,
   "metadata": {},
   "outputs": [
    {
     "name": "stdout",
     "output_type": "stream",
     "text": [
      "240 Task A: 1 Task B: 1\n",
      "480 Task A: 1 Task B: 5\n",
      "720 Task A: 0 Task B: 6\n",
      "960 Task A: 0 Task B: 6\n",
      "1200 Task A: 1 Task B: 6\n",
      "1440 Task A: 1 Task B: 6\n",
      "1680 Task A: 1 Task B: 5\n",
      "1920 Task A: 1 Task B: 8\n",
      "2160 Task A: 0 Task B: 9\n",
      "2400 Task A: 3 Task B: 11\n",
      "2640 Task A: 1 Task B: 13\n",
      "2880 Task A: 1 Task B: 13\n",
      "3120 Task A: 1 Task B: 14\n",
      "3360 Task A: 2 Task B: 16\n",
      "3600 Task A: 1 Task B: 18\n",
      "3840 Task A: 1 Task B: 20\n",
      "4080 Task A: 1 Task B: 23\n",
      "4320 Task A: 1 Task B: 23\n",
      "4560 Task A: 1 Task B: 26\n",
      "4800 Task A: 1 Task B: 26\n",
      "5040 Task A: 0 Task B: 30\n",
      "5280 Task A: 1 Task B: 31\n",
      "5520 Task A: 0 Task B: 33\n",
      "5760 Task A: 1 Task B: 32\n",
      "6000 Task A: 1 Task B: 35\n",
      "6240 Task A: 0 Task B: 35\n",
      "6480 Task A: 1 Task B: 35\n",
      "6720 Task A: 0 Task B: 36\n",
      "6960 Task A: 1 Task B: 41\n",
      "7200 Task A: 1 Task B: 42\n",
      "7440 Task A: 1 Task B: 42\n",
      "7680 Task A: 1 Task B: 42\n",
      "7920 Task A: 1 Task B: 42\n",
      "8160 Task A: 1 Task B: 43\n",
      "8400 Task A: 1 Task B: 45\n",
      "8640 Task A: 1 Task B: 47\n",
      "Uncompleted cases: 48\n",
      "Mean cycle time: 746.2080212219288. Standard deviation: 445.34411070323637\n"
     ]
    }
   ],
   "source": [
    "from simulator import Simulator\n",
    "from planners import GreedyPlanner, ShortestProcessingTime, DedicatedResourcePlanner\n",
    "\n",
    "running_time = 24*365\n",
    "\n",
    "planner = DedicatedResourcePlanner()\n",
    "#planner = ShortestProcessingTime()\n",
    "\n",
    "simulator = Simulator(running_time=running_time, planner=planner, mean_interarrival_time=30)\n",
    "\n",
    "simulator.run()\n"
   ]
  },
  {
   "cell_type": "code",
   "execution_count": 22,
   "metadata": {},
   "outputs": [
    {
     "data": {
      "text/plain": [
       "27.405611836051293"
      ]
     },
     "execution_count": 22,
     "metadata": {},
     "output_type": "execute_result"
    }
   ],
   "source": [
    "simulator.sample_interarrival_time()"
   ]
  },
  {
   "cell_type": "code",
   "execution_count": null,
   "metadata": {},
   "outputs": [],
   "source": []
  }
 ],
 "metadata": {
  "kernelspec": {
   "display_name": "MLO_env",
   "language": "python",
   "name": "python3"
  },
  "language_info": {
   "codemirror_mode": {
    "name": "ipython",
    "version": 3
   },
   "file_extension": ".py",
   "mimetype": "text/x-python",
   "name": "python",
   "nbconvert_exporter": "python",
   "pygments_lexer": "ipython3",
   "version": "3.10.6 | packaged by conda-forge | (main, Oct  7 2022, 20:14:50) [MSC v.1916 64 bit (AMD64)]"
  },
  "orig_nbformat": 4,
  "vscode": {
   "interpreter": {
    "hash": "904fb9357faf6a446fda0a856f1e376ae42c0fd2f25f960f2d0680413a0cadc5"
   }
  }
 },
 "nbformat": 4,
 "nbformat_minor": 2
}
